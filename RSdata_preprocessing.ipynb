{
  "nbformat": 4,
  "nbformat_minor": 0,
  "metadata": {
    "kernelspec": {
      "display_name": "Python 3.8",
      "language": "python",
      "name": "python-3.8"
    },
    "language_info": {
      "codemirror_mode": {
        "name": "ipython",
        "version": 3
      },
      "file_extension": ".py",
      "mimetype": "text/x-python",
      "name": "python",
      "nbconvert_exporter": "python",
      "pygments_lexer": "ipython3",
      "version": "3.8.5"
    },
    "colab": {
      "provenance": [],
      "include_colab_link": true
    },
    "widgets": {
      "application/vnd.jupyter.widget-state+json": {
        "80923c1775e04465a180141e6aba64d7": {
          "model_module": "@jupyter-widgets/controls",
          "model_name": "HBoxModel",
          "state": {
            "_view_name": "HBoxView",
            "_dom_classes": [],
            "_model_name": "HBoxModel",
            "_view_module": "@jupyter-widgets/controls",
            "_model_module_version": "1.5.0",
            "_view_count": null,
            "_view_module_version": "1.5.0",
            "box_style": "",
            "layout": "IPY_MODEL_b08455bc555c4956af50c726853b30e3",
            "_model_module": "@jupyter-widgets/controls",
            "children": [
              "IPY_MODEL_11d6871a27e141c09792d3174935e302",
              "IPY_MODEL_ff2216b1d09c490e839ef152a580a792"
            ]
          },
          "model_module_version": "1.5.0"
        },
        "b08455bc555c4956af50c726853b30e3": {
          "model_module": "@jupyter-widgets/base",
          "model_name": "LayoutModel",
          "state": {
            "_view_name": "LayoutView",
            "grid_template_rows": null,
            "right": null,
            "justify_content": null,
            "_view_module": "@jupyter-widgets/base",
            "overflow": null,
            "_model_module_version": "1.2.0",
            "_view_count": null,
            "flex_flow": null,
            "width": null,
            "min_width": null,
            "border": null,
            "align_items": null,
            "bottom": null,
            "_model_module": "@jupyter-widgets/base",
            "top": null,
            "grid_column": null,
            "overflow_y": null,
            "overflow_x": null,
            "grid_auto_flow": null,
            "grid_area": null,
            "grid_template_columns": null,
            "flex": null,
            "_model_name": "LayoutModel",
            "justify_items": null,
            "grid_row": null,
            "max_height": null,
            "align_content": null,
            "visibility": null,
            "align_self": null,
            "height": null,
            "min_height": null,
            "padding": null,
            "grid_auto_rows": null,
            "grid_gap": null,
            "max_width": null,
            "order": null,
            "_view_module_version": "1.2.0",
            "grid_template_areas": null,
            "object_position": null,
            "object_fit": null,
            "grid_auto_columns": null,
            "margin": null,
            "display": null,
            "left": null
          },
          "model_module_version": "1.2.0"
        },
        "11d6871a27e141c09792d3174935e302": {
          "model_module": "@jupyter-widgets/controls",
          "model_name": "FloatProgressModel",
          "state": {
            "_view_name": "ProgressView",
            "style": "IPY_MODEL_441a8ee171bd46919bb57015d510010f",
            "_dom_classes": [],
            "description": "  0%",
            "_model_name": "FloatProgressModel",
            "bar_style": "danger",
            "max": 24,
            "_view_module": "@jupyter-widgets/controls",
            "_model_module_version": "1.5.0",
            "value": 0,
            "_view_count": null,
            "_view_module_version": "1.5.0",
            "orientation": "horizontal",
            "min": 0,
            "description_tooltip": null,
            "_model_module": "@jupyter-widgets/controls",
            "layout": "IPY_MODEL_968c212dd2af46489031f50117aea1b3"
          },
          "model_module_version": "1.5.0"
        },
        "ff2216b1d09c490e839ef152a580a792": {
          "model_module": "@jupyter-widgets/controls",
          "model_name": "HTMLModel",
          "state": {
            "_view_name": "HTMLView",
            "style": "IPY_MODEL_3b56e6d361034a1e9de2722951208beb",
            "_dom_classes": [],
            "description": "",
            "_model_name": "HTMLModel",
            "placeholder": "​",
            "_view_module": "@jupyter-widgets/controls",
            "_model_module_version": "1.5.0",
            "value": " 0/24 [00:00&lt;?, ?it/s]",
            "_view_count": null,
            "_view_module_version": "1.5.0",
            "description_tooltip": null,
            "_model_module": "@jupyter-widgets/controls",
            "layout": "IPY_MODEL_d5a94f5bdc054ba7821977d4134f07fe"
          },
          "model_module_version": "1.5.0"
        },
        "441a8ee171bd46919bb57015d510010f": {
          "model_module": "@jupyter-widgets/controls",
          "model_name": "ProgressStyleModel",
          "state": {
            "_view_name": "StyleView",
            "_model_name": "ProgressStyleModel",
            "description_width": "initial",
            "_view_module": "@jupyter-widgets/base",
            "_model_module_version": "1.5.0",
            "_view_count": null,
            "_view_module_version": "1.2.0",
            "bar_color": null,
            "_model_module": "@jupyter-widgets/controls"
          },
          "model_module_version": "1.5.0"
        },
        "968c212dd2af46489031f50117aea1b3": {
          "model_module": "@jupyter-widgets/base",
          "model_name": "LayoutModel",
          "state": {
            "_view_name": "LayoutView",
            "grid_template_rows": null,
            "right": null,
            "justify_content": null,
            "_view_module": "@jupyter-widgets/base",
            "overflow": null,
            "_model_module_version": "1.2.0",
            "_view_count": null,
            "flex_flow": null,
            "width": null,
            "min_width": null,
            "border": null,
            "align_items": null,
            "bottom": null,
            "_model_module": "@jupyter-widgets/base",
            "top": null,
            "grid_column": null,
            "overflow_y": null,
            "overflow_x": null,
            "grid_auto_flow": null,
            "grid_area": null,
            "grid_template_columns": null,
            "flex": null,
            "_model_name": "LayoutModel",
            "justify_items": null,
            "grid_row": null,
            "max_height": null,
            "align_content": null,
            "visibility": null,
            "align_self": null,
            "height": null,
            "min_height": null,
            "padding": null,
            "grid_auto_rows": null,
            "grid_gap": null,
            "max_width": null,
            "order": null,
            "_view_module_version": "1.2.0",
            "grid_template_areas": null,
            "object_position": null,
            "object_fit": null,
            "grid_auto_columns": null,
            "margin": null,
            "display": null,
            "left": null
          },
          "model_module_version": "1.2.0"
        },
        "3b56e6d361034a1e9de2722951208beb": {
          "model_module": "@jupyter-widgets/controls",
          "model_name": "DescriptionStyleModel",
          "state": {
            "_view_name": "StyleView",
            "_model_name": "DescriptionStyleModel",
            "description_width": "",
            "_view_module": "@jupyter-widgets/base",
            "_model_module_version": "1.5.0",
            "_view_count": null,
            "_view_module_version": "1.2.0",
            "_model_module": "@jupyter-widgets/controls"
          },
          "model_module_version": "1.5.0"
        },
        "d5a94f5bdc054ba7821977d4134f07fe": {
          "model_module": "@jupyter-widgets/base",
          "model_name": "LayoutModel",
          "state": {
            "_view_name": "LayoutView",
            "grid_template_rows": null,
            "right": null,
            "justify_content": null,
            "_view_module": "@jupyter-widgets/base",
            "overflow": null,
            "_model_module_version": "1.2.0",
            "_view_count": null,
            "flex_flow": null,
            "width": null,
            "min_width": null,
            "border": null,
            "align_items": null,
            "bottom": null,
            "_model_module": "@jupyter-widgets/base",
            "top": null,
            "grid_column": null,
            "overflow_y": null,
            "overflow_x": null,
            "grid_auto_flow": null,
            "grid_area": null,
            "grid_template_columns": null,
            "flex": null,
            "_model_name": "LayoutModel",
            "justify_items": null,
            "grid_row": null,
            "max_height": null,
            "align_content": null,
            "visibility": null,
            "align_self": null,
            "height": null,
            "min_height": null,
            "padding": null,
            "grid_auto_rows": null,
            "grid_gap": null,
            "max_width": null,
            "order": null,
            "_view_module_version": "1.2.0",
            "grid_template_areas": null,
            "object_position": null,
            "object_fit": null,
            "grid_auto_columns": null,
            "margin": null,
            "display": null,
            "left": null
          },
          "model_module_version": "1.2.0"
        }
      }
    }
  },
  "cells": [
    {
      "cell_type": "markdown",
      "metadata": {
        "id": "view-in-github",
        "colab_type": "text"
      },
      "source": [
        "<a href=\"https://colab.research.google.com/github/gis-up-shim/test/blob/main/RSdata_preprocessing.ipynb\" target=\"_parent\"><img src=\"https://colab.research.google.com/assets/colab-badge.svg\" alt=\"Open In Colab\"/></a>"
      ]
    },
    {
      "cell_type": "markdown",
      "metadata": {
        "id": "ZJaAwGhjA4dU"
      },
      "source": [
        "# Cleaning RS data\n",
        "\n",
        "[I. Weekend Data with Heavy Users](#first-bullet)  \n",
        "[II. Data Aggregation](#second-bullet)"
      ]
    },
    {
      "cell_type": "code",
      "metadata": {
        "id": "SF85E7eXA4db"
      },
      "source": [
        "import pickle\n",
        "import gzip\n",
        "import base64\n",
        "import datetime as dt\n",
        "import json\n",
        "import os\n",
        "import struct\n",
        "import time\n",
        "import csv\n",
        "import math\n",
        "import numpy as np\n",
        "import pandas as pd\n",
        "import itertools\n",
        "import urllib\n",
        "\n",
        "from tqdm.notebook import tqdm\n",
        "\n",
        "from io import BytesIO\n",
        "from datetime import datetime\n",
        "# from pyproj import Proj, transform\n",
        "from scipy.sparse import csr_matrix\n",
        "from collections import namedtuple\n",
        "import scipy.sparse as sp\n",
        "\n",
        "import seaborn as sns"
      ],
      "execution_count": null,
      "outputs": []
    },
    {
      "cell_type": "code",
      "metadata": {
        "id": "N4ETbAbEA4dd"
      },
      "source": [
        "pd.set_option('display.max_columns', None)"
      ],
      "execution_count": null,
      "outputs": []
    },
    {
      "cell_type": "markdown",
      "metadata": {
        "id": "iYscVUKzA4de"
      },
      "source": [
        "# I. Weekend Data with Heavy Users <a class=\"anchor\" id=\"first-bullet\"></a>"
      ]
    },
    {
      "cell_type": "markdown",
      "metadata": {
        "id": "9dofxzwBA4df"
      },
      "source": [
        "**Weekend/holiday data (27days)**:\n",
        "0727,0728,0803,0804,0810,0811,0817,0818,0824,0825,0831,0901,0907,0908,0914,0915,0921,0922,0928,0929,10051006,1012,1013,1014(holiday),1019,1020"
      ]
    },
    {
      "cell_type": "code",
      "metadata": {
        "colab": {
          "base_uri": "https://localhost:8080/"
        },
        "id": "p51SJCp4A4dg",
        "outputId": "9e40b884-2665-429b-9501-1615ee58e115"
      },
      "source": [
        "# list of weekend date\n",
        "\n",
        "weekend_date = [\"0727\",\"0728\",\"0803\",\"0804\",\"0810\",\"0811\",\"0817\",\"0818\",\"0824\",\"0825\",\"0831\",\"0901\",\"0907\",\"0908\",\n",
        "                \"0921\",\"0922\",\"0928\",\"0929\",\"1005\",\"1006\",\"1012\",\"1013\",\"1019\",\"1020\"]\n",
        "print('# weekend dates:', len(weekend_date))"
      ],
      "execution_count": null,
      "outputs": [
        {
          "output_type": "stream",
          "text": [
            "# weekend dates: 24\n"
          ],
          "name": "stdout"
        }
      ]
    },
    {
      "cell_type": "code",
      "metadata": {
        "colab": {
          "base_uri": "https://localhost:8080/",
          "height": 264,
          "referenced_widgets": [
            "80923c1775e04465a180141e6aba64d7",
            "b08455bc555c4956af50c726853b30e3",
            "11d6871a27e141c09792d3174935e302",
            "ff2216b1d09c490e839ef152a580a792",
            "441a8ee171bd46919bb57015d510010f",
            "968c212dd2af46489031f50117aea1b3",
            "3b56e6d361034a1e9de2722951208beb",
            "d5a94f5bdc054ba7821977d4134f07fe"
          ]
        },
        "id": "4h3d_OKZA4dk",
        "outputId": "dd1c2f56-0e8c-4d9b-d301-739450d6c90c"
      },
      "source": [
        "# save userName of each trip in the empty list\n",
        "\n",
        "userName_lst = []\n",
        "\n",
        "for i in tqdm(weekend_date):\n",
        "    with open('/project/kakao/rs_merged_2019'+i+'.pickle','rb') as f:\n",
        "        data = pickle.load(f)\n",
        "    for trip in data.keys():\n",
        "        try:\n",
        "            userName_lst.append(data[trip][list(data[trip].keys())[0]]['userName'])\n",
        "        except:\n",
        "            pass"
      ],
      "execution_count": null,
      "outputs": [
        {
          "output_type": "display_data",
          "data": {
            "application/vnd.jupyter.widget-view+json": {
              "model_id": "80923c1775e04465a180141e6aba64d7",
              "version_minor": 0,
              "version_major": 2
            },
            "text/plain": [
              "HBox(children=(FloatProgress(value=0.0, max=24.0), HTML(value='')))"
            ]
          },
          "metadata": {
            "tags": []
          }
        },
        {
          "output_type": "error",
          "ename": "FileNotFoundError",
          "evalue": "ignored",
          "traceback": [
            "\u001b[0;31m---------------------------------------------------------------------------\u001b[0m",
            "\u001b[0;31mFileNotFoundError\u001b[0m                         Traceback (most recent call last)",
            "\u001b[0;32m<ipython-input-5-566f45471f58>\u001b[0m in \u001b[0;36m<module>\u001b[0;34m()\u001b[0m\n\u001b[1;32m      4\u001b[0m \u001b[0;34m\u001b[0m\u001b[0m\n\u001b[1;32m      5\u001b[0m \u001b[0;32mfor\u001b[0m \u001b[0mi\u001b[0m \u001b[0;32min\u001b[0m \u001b[0mtqdm\u001b[0m\u001b[0;34m(\u001b[0m\u001b[0mweekend_date\u001b[0m\u001b[0;34m)\u001b[0m\u001b[0;34m:\u001b[0m\u001b[0;34m\u001b[0m\u001b[0;34m\u001b[0m\u001b[0m\n\u001b[0;32m----> 6\u001b[0;31m     \u001b[0;32mwith\u001b[0m \u001b[0mopen\u001b[0m\u001b[0;34m(\u001b[0m\u001b[0;34m'/project/kakao/rs_merged_2019'\u001b[0m\u001b[0;34m+\u001b[0m\u001b[0mi\u001b[0m\u001b[0;34m+\u001b[0m\u001b[0;34m'.pickle'\u001b[0m\u001b[0;34m,\u001b[0m\u001b[0;34m'rb'\u001b[0m\u001b[0;34m)\u001b[0m \u001b[0;32mas\u001b[0m \u001b[0mf\u001b[0m\u001b[0;34m:\u001b[0m\u001b[0;34m\u001b[0m\u001b[0;34m\u001b[0m\u001b[0m\n\u001b[0m\u001b[1;32m      7\u001b[0m         \u001b[0mdata\u001b[0m \u001b[0;34m=\u001b[0m \u001b[0mpickle\u001b[0m\u001b[0;34m.\u001b[0m\u001b[0mload\u001b[0m\u001b[0;34m(\u001b[0m\u001b[0mf\u001b[0m\u001b[0;34m)\u001b[0m\u001b[0;34m\u001b[0m\u001b[0;34m\u001b[0m\u001b[0m\n\u001b[1;32m      8\u001b[0m     \u001b[0;32mfor\u001b[0m \u001b[0mtrip\u001b[0m \u001b[0;32min\u001b[0m \u001b[0mdata\u001b[0m\u001b[0;34m.\u001b[0m\u001b[0mkeys\u001b[0m\u001b[0;34m(\u001b[0m\u001b[0;34m)\u001b[0m\u001b[0;34m:\u001b[0m\u001b[0;34m\u001b[0m\u001b[0;34m\u001b[0m\u001b[0m\n",
            "\u001b[0;31mFileNotFoundError\u001b[0m: [Errno 2] No such file or directory: '/project/kakao/rs_merged_20190727.pickle'"
          ]
        }
      ]
    },
    {
      "cell_type": "code",
      "metadata": {
        "id": "6dY5zs6oA4dm"
      },
      "source": [
        "# count each drivers' number of trips\n",
        "\n",
        "from collections import Counter\n",
        "weekend_trip_per_driver = Counter(userName_lst)"
      ],
      "execution_count": null,
      "outputs": []
    },
    {
      "cell_type": "code",
      "metadata": {
        "id": "j3g0WLdtA4dn",
        "outputId": "e246302f-13b8-438e-9106-0199ee552635"
      },
      "source": [
        "# the number of drivers of weekend data\n",
        "\n",
        "len(weekend_trip_per_driver.keys())"
      ],
      "execution_count": null,
      "outputs": [
        {
          "output_type": "execute_result",
          "data": {
            "text/plain": [
              "615051"
            ]
          },
          "metadata": {
            "tags": []
          },
          "execution_count": 94
        }
      ]
    },
    {
      "cell_type": "code",
      "metadata": {
        "id": "sQEoo2rIA4dn",
        "outputId": "e6f295a2-46e5-429e-d291-c1021d916837"
      },
      "source": [
        "# Top 10 values from driver counter\n",
        "\n",
        "weekend_trip_per_driver.most_common(10)"
      ],
      "execution_count": null,
      "outputs": [
        {
          "output_type": "execute_result",
          "data": {
            "text/plain": [
              "[('YgEdWWRbQaqWAWDfvSVhe6yXhAVsfZkOgMbj-Jbn-Ls', 558),\n",
              " ('0SW29Y1YlcSrU5WH6y2Uwe-Arm5DaWZIdSQJC_uvIYc', 464),\n",
              " ('l1edH2_9-qj5-we8GRAwIoRwB6wP6nICgc6D9pTLHyQ', 423),\n",
              " ('1iiu89sqRCkG_tB9uLQjmInZI1CXFv8Zqx6yYMpJf6k', 359),\n",
              " ('cA0UeXWfUlYo1Dcb85afiBAKajtJRfkegTe52UzqxFY', 349),\n",
              " ('H9YYB5QPzFMz6DwlK8Xj5INjChv_djgSC0IvVfx0QXo', 343),\n",
              " ('RmmLFF-6OyoME2UNBienK5d5EjUAy-TgqccqzF3wvnA', 336),\n",
              " ('N1mCkVpt43PUqmzO1Jbpa1umWmF3yA1-KYp62oOteXg', 332),\n",
              " ('ObsaWW5QlefROoYUnDivALUniiLouh2L4D2KS8-omH0', 332),\n",
              " ('7w1rQxWjUKilUT12QKCoycwo9x3VlmRXhssmiaH_w-A', 325)]"
            ]
          },
          "metadata": {
            "tags": []
          },
          "execution_count": 95
        }
      ]
    },
    {
      "cell_type": "code",
      "metadata": {
        "id": "rTy_wL2TA4dp"
      },
      "source": [
        "c = weekend_trip_per_driver.copy()"
      ],
      "execution_count": null,
      "outputs": []
    },
    {
      "cell_type": "code",
      "metadata": {
        "id": "l5OHNJbEA4dq"
      },
      "source": [
        "# convert Counter into DataFrame\n",
        "\n",
        "counter_df = pd.DataFrame.from_dict(weekend_trip_per_driver, orient='index').reset_index().rename(columns={'index':'userName', 0:'num_trip'})\n",
        "counter_df.head(5)"
      ],
      "execution_count": null,
      "outputs": []
    },
    {
      "cell_type": "code",
      "metadata": {
        "id": "9ynN_F7zA4dq",
        "outputId": "6018dadf-9341-4179-bef7-40da944a34e1"
      },
      "source": [
        "# userName of heavy users\n",
        "\n",
        "heavy_user_counter = Counter({k: c for k, c in c.items() if c >= 30}) # heavy users: drivers who have more or equal to 30 trips\n",
        "heavy_counter_df = pd.DataFrame.from_dict(heavy_user_counter, orient='index').reset_index().rename(columns={'index':'userName', 0:'num_trip'})\n",
        "heavy_counter_df.head(5)"
      ],
      "execution_count": null,
      "outputs": [
        {
          "output_type": "execute_result",
          "data": {
            "text/html": [
              "<div>\n",
              "<style scoped>\n",
              "    .dataframe tbody tr th:only-of-type {\n",
              "        vertical-align: middle;\n",
              "    }\n",
              "\n",
              "    .dataframe tbody tr th {\n",
              "        vertical-align: top;\n",
              "    }\n",
              "\n",
              "    .dataframe thead th {\n",
              "        text-align: right;\n",
              "    }\n",
              "</style>\n",
              "<table border=\"1\" class=\"dataframe\">\n",
              "  <thead>\n",
              "    <tr style=\"text-align: right;\">\n",
              "      <th></th>\n",
              "      <th>userName</th>\n",
              "      <th>num_trip</th>\n",
              "    </tr>\n",
              "  </thead>\n",
              "  <tbody>\n",
              "    <tr>\n",
              "      <th>0</th>\n",
              "      <td>WSNA_q8NwW7xjX5iOzLGy7ID_mwmZY2HNOoRK0wksNk</td>\n",
              "      <td>39</td>\n",
              "    </tr>\n",
              "    <tr>\n",
              "      <th>1</th>\n",
              "      <td>EscOJ2w6Ao5UK0BRZ0Vaco8jATTzJnOcdLPXDlhfLMY</td>\n",
              "      <td>55</td>\n",
              "    </tr>\n",
              "    <tr>\n",
              "      <th>2</th>\n",
              "      <td>7-ZMS4MglSKXK7FnmyxaPW96wOC7vOcTEz8zpfuEHiQ</td>\n",
              "      <td>68</td>\n",
              "    </tr>\n",
              "    <tr>\n",
              "      <th>3</th>\n",
              "      <td>7Z_2p1x7e3tyTgqDCqMdGRJJAEEf_yko4mUJEQAsnGM</td>\n",
              "      <td>78</td>\n",
              "    </tr>\n",
              "    <tr>\n",
              "      <th>4</th>\n",
              "      <td>CS82Z6MvliUw3FkVzFuD1Pejh5HVqL7uJHcmSfz_9O4</td>\n",
              "      <td>112</td>\n",
              "    </tr>\n",
              "  </tbody>\n",
              "</table>\n",
              "</div>"
            ],
            "text/plain": [
              "                                      userName  num_trip\n",
              "0  WSNA_q8NwW7xjX5iOzLGy7ID_mwmZY2HNOoRK0wksNk        39\n",
              "1  EscOJ2w6Ao5UK0BRZ0Vaco8jATTzJnOcdLPXDlhfLMY        55\n",
              "2  7-ZMS4MglSKXK7FnmyxaPW96wOC7vOcTEz8zpfuEHiQ        68\n",
              "3  7Z_2p1x7e3tyTgqDCqMdGRJJAEEf_yko4mUJEQAsnGM        78\n",
              "4  CS82Z6MvliUw3FkVzFuD1Pejh5HVqL7uJHcmSfz_9O4       112"
            ]
          },
          "metadata": {
            "tags": []
          },
          "execution_count": 112
        }
      ]
    },
    {
      "cell_type": "code",
      "metadata": {
        "id": "JcjLl3g-A4dr"
      },
      "source": [
        "# save heavy user information\n",
        "heavy_counter_df.to_csv('/project/kakao/heavy_counter30_df.csv')"
      ],
      "execution_count": null,
      "outputs": []
    },
    {
      "cell_type": "code",
      "metadata": {
        "id": "VUkueUvoA4ds",
        "outputId": "62a7950f-109f-44c9-a2a4-4682a37f3c0f"
      },
      "source": [
        "print('# of entire drivers: ',len(weekend_trip_per_driver.keys()))\n",
        "print('# of heavy drivers: ',len(heavy_user_counter.keys()))"
      ],
      "execution_count": null,
      "outputs": [
        {
          "output_type": "stream",
          "text": [
            "# of entire drivers:  615051\n",
            "# of heavy drivers:  2054\n"
          ],
          "name": "stdout"
        }
      ]
    },
    {
      "cell_type": "code",
      "metadata": {
        "id": "V5kfgpcrA4dt"
      },
      "source": [
        "# # sorting counter\n",
        "# sorted(c.items(), key=lambda pair: pair[1], reverse=False)"
      ],
      "execution_count": null,
      "outputs": []
    },
    {
      "cell_type": "code",
      "metadata": {
        "id": "ZNKQ8KjEA4du",
        "outputId": "323d4327-56e1-4972-b640-70fdd6c9574f"
      },
      "source": [
        "# plotting trip density\n",
        "\n",
        "# for entire weekend drivers\n",
        "fig, axs = plt.subplots(ncols=2, figsize = (15,8))\n",
        "sns.distplot(list(counter_df.num_trip), hist = False, kde = True, rug = True,\n",
        "             color = 'darkblue',\n",
        "             kde_kws={'linewidth': 3},\n",
        "             rug_kws={'color': 'black'}, ax=axs[0])\n",
        "\n",
        "# for heavy users (drivers)\n",
        "sns.distplot(list(heavy_counter_df.num_trip), hist = False, kde = True, rug = True,\n",
        "             color = 'darkblue',\n",
        "             kde_kws={'linewidth': 3},\n",
        "             rug_kws={'color': 'black'}, ax=axs[1])\n"
      ],
      "execution_count": null,
      "outputs": [
        {
          "output_type": "stream",
          "text": [
            "/apps/software/standard/core/anaconda/2020.11-py3.8/lib/python3.8/site-packages/seaborn/distributions.py:2551: FutureWarning: `distplot` is a deprecated function and will be removed in a future version. Please adapt your code to use either `displot` (a figure-level function with similar flexibility) or `kdeplot` (an axes-level function for kernel density plots).\n",
            "  warnings.warn(msg, FutureWarning)\n",
            "/apps/software/standard/core/anaconda/2020.11-py3.8/lib/python3.8/site-packages/seaborn/distributions.py:2055: FutureWarning: The `axis` variable is no longer used and will be removed. Instead, assign variables directly to `x` or `y`.\n",
            "  warnings.warn(msg, FutureWarning)\n",
            "/apps/software/standard/core/anaconda/2020.11-py3.8/lib/python3.8/site-packages/seaborn/distributions.py:2551: FutureWarning: `distplot` is a deprecated function and will be removed in a future version. Please adapt your code to use either `displot` (a figure-level function with similar flexibility) or `kdeplot` (an axes-level function for kernel density plots).\n",
            "  warnings.warn(msg, FutureWarning)\n",
            "/apps/software/standard/core/anaconda/2020.11-py3.8/lib/python3.8/site-packages/seaborn/distributions.py:2055: FutureWarning: The `axis` variable is no longer used and will be removed. Instead, assign variables directly to `x` or `y`.\n",
            "  warnings.warn(msg, FutureWarning)\n"
          ],
          "name": "stderr"
        },
        {
          "output_type": "execute_result",
          "data": {
            "text/plain": [
              "<AxesSubplot:ylabel='Density'>"
            ]
          },
          "metadata": {
            "tags": []
          },
          "execution_count": 76
        },
        {
          "output_type": "display_data",
          "data": {
            "image/png": "[encoded data removed]",
            "text/plain": [
              "<Figure size 1080x576 with 2 Axes>"
            ]
          },
          "metadata": {
            "tags": [],
            "needs_background": "light"
          }
        }
      ]
    },
    {
      "cell_type": "markdown",
      "metadata": {
        "id": "aoRzqZXTA4dv"
      },
      "source": [
        "# II. Data Aggregation <a class=\"anchor\" id=\"second-bullet\"></a>\n",
        "\n",
        "1. **UniqueLinkID**  \n",
        "    a. Magnitude\n",
        "        - FacilityType (-1,0,1)\n",
        "        - RoadType (3,2,1,0,-1)\n",
        "     b. Weighted Average\n",
        "         - laneCount\n",
        "        - currentSpeed\n",
        "        - speedlimit\n",
        "2. **SafetyRgs**"
      ]
    },
    {
      "cell_type": "markdown",
      "metadata": {
        "id": "xc1VYaByA4dv"
      },
      "source": [
        "## 1. UniqueLinkID"
      ]
    },
    {
      "cell_type": "markdown",
      "metadata": {
        "id": "o99Ys9MDA4dw"
      },
      "source": [
        "### Magnitude  \n",
        "- FacilityType\n",
        "- RoadType"
      ]
    },
    {
      "cell_type": "code",
      "metadata": {
        "id": "L7zeO5oPA4dw"
      },
      "source": [
        "# assign magnitude to roade type and facility type\n",
        "\n",
        "def assign_magnitude(data):\n",
        "    for trip in data:\n",
        "        for route in data[trip]:\n",
        "            #list of dictionary\n",
        "            try:\n",
        "                for d in data[trip][route]['routeLinks']:\n",
        "                    #roadType\n",
        "                    if d['roadType'] == 0 or d['roadType'] == 1:\n",
        "                        d['roadType'] = 3\n",
        "                    elif d['roadType'] == 2 or d['roadType'] == 3 or d['roadType'] == 4:\n",
        "                        d['roadType'] = 2\n",
        "                    elif d['roadType'] == 5 or d['roadType'] == 6 or d['roadType'] == 7:\n",
        "                        d['roadType'] = 1\n",
        "                    elif d['roadType'] == 8:\n",
        "                        d['roadType'] = 0\n",
        "                    else:\n",
        "                        d['roadType'] = -1\n",
        "\n",
        "                    #facilityType\n",
        "                    if d['facilityType'] == 0 or d['facilityType']==1 or d['facilityType']==2:\n",
        "                        d['facilityType'] = 0\n",
        "                    else:\n",
        "                        d['facilityType'] = 1\n",
        "    #             data[trip][route]['roadType'] = sum(ele['roadType']*ele['length'] for ele in data[trip][route]['routeLinks'])/sum(ele['length'] for ele in data[trip][route]['routeLinks'])\n",
        "                data[trip][route]['roadType'] = sum(ele['roadType'] for ele in data[trip][route]['routeLinks'])\n",
        "                data[trip][route]['facilityType'] = sum(ele['facilityType'] for ele in data[trip][route]['routeLinks'])\n",
        "\n",
        "\n",
        "            except:\n",
        "                pass"
      ],
      "execution_count": null,
      "outputs": []
    },
    {
      "cell_type": "markdown",
      "metadata": {
        "id": "yKfcrJ6eA4dy"
      },
      "source": [
        "### Weighted Average\n",
        "- laneCount\n",
        "- limitSpeed\n",
        "- currentTrafficSpeed"
      ]
    },
    {
      "cell_type": "code",
      "metadata": {
        "id": "72yaAlnQA4dy"
      },
      "source": [
        "# calculate weighted average for land/count, limitSpeed, and currentTrafficSpeed\n",
        "\n",
        "def weighted_avg(data):\n",
        "    for trip in data.keys():\n",
        "        for route in data[trip].keys():\n",
        "            try:\n",
        "                data[trip][route]['laneCount'] = sum(ele['laneCount']*ele['length'] for ele in data[trip][route]['routeLinks'])/sum(ele['length'] for ele in data[trip][route]['routeLinks'])\n",
        "                data[trip][route]['limitSpeed'] = sum(ele['limitSpeed']*ele['length'] for ele in data[trip][route]['routeLinks'])/sum(ele['length'] for ele in data[trip][route]['routeLinks'])\n",
        "                data[trip][route]['currentTrafficSpeed'] = sum(ele['currentTrafficSpeed']*ele['length'] for ele in data[trip][route]['routeLinks'])/sum(ele['length'] for ele in data[trip][route]['routeLinks'])\n",
        "            except:\n",
        "                data[trip][route]['laneCount'] = 'NaN'\n",
        "                data[trip][route]['limitSpeed'] = 'NaN'\n",
        "                data[trip][route]['currentTrafficSpeed'] = 'NaN'"
      ],
      "execution_count": null,
      "outputs": []
    },
    {
      "cell_type": "markdown",
      "metadata": {
        "id": "f68wzUifA4dz"
      },
      "source": [
        "## 2. SafetyRgs"
      ]
    },
    {
      "cell_type": "code",
      "metadata": {
        "id": "4-PwGwbsA4d0"
      },
      "source": [
        "# sum safetycount (The number of Saftey data in the trip; 경로에 포함되어 있는 안전운행 데이터 개수)\n",
        "\n",
        "def safetyRgs(data):\n",
        "    for trip in data.keys():\n",
        "        for route in data[trip].keys():\n",
        "            try:\n",
        "                if len(data[trip][route]['safetyRgs']) == 0:\n",
        "                    data[trip][route]['safetyCount'] = 'NaN'\n",
        "                else:\n",
        "                    for d in data[trip][route]['safetyRgs']:\n",
        "                        data[trip][route]['safetyCount'] = sum(ele['safetyCount'] for ele in data[trip][route]['safetyRgs'])\n",
        "            except:\n",
        "\n",
        "                data[trip][route]['safetyCount'] = 'NaN'\n",
        ""
      ],
      "execution_count": null,
      "outputs": []
    },
    {
      "cell_type": "code",
      "metadata": {
        "id": "SDINzM4wA4d1"
      },
      "source": [
        "# Assign magnitude to safetycode\n",
        "\n",
        "def safetyCode(data):\n",
        "    nega_code = [80,83,87,88,94,95,98,99,101] # for these codes, assign -1 (negatively affect selecting the route)\n",
        "    neut_code = [15,20] # for these codes, assign 0 (netural)\n",
        "    posi_code = [1] # for these codes, assign +1 (positively affect selecting the route)\n",
        "#     safety_code = 0\n",
        "    for trip in data:\n",
        "        for route in data[trip]:\n",
        "            safety_code = 0\n",
        "            try:\n",
        "                if len(data[trip][route]['safetyRgs']) == 0:\n",
        "                    data[trip][route]['safetyCode'] = 'NaN'\n",
        "\n",
        "                else:\n",
        "                    for d in data[trip][route]['safetyRgs']:\n",
        "                        for info in d['safetyRgs']:\n",
        "                            if info['safetyCode'] in nega_code:\n",
        "                                info['safetyCode'] = 0\n",
        "                            elif info['safetyCode'] in neut_code:\n",
        "                                info['safetyCode'] = 1\n",
        "                            else:\n",
        "                                info['safetyCode'] = -1\n",
        "\n",
        "                            safety_code += info['safetyCode']\n",
        "                    data[trip][route]['safetyCode'] = safety_code\n",
        "            except:\n",
        "                data[trip][route]['safetyCode'] = 'NaN'\n",
        ""
      ],
      "execution_count": null,
      "outputs": []
    },
    {
      "cell_type": "code",
      "metadata": {
        "id": "-QrGVqXQA4d3"
      },
      "source": [
        "# removing unrelated/unnecessary features from dictionary\n",
        "\n",
        "def cleaning_dict(data):\n",
        "    del_list = ['time','routeLinks', 'safetyRgs', 'car_type', 's_x', 's_y', 'e_x', 'e_y']\n",
        "    for trip in data.keys():\n",
        "        for route in data[trip].keys():\n",
        "            for key in list(data[trip][route].keys()):\n",
        "                if key in del_list:\n",
        "                    del data[trip][route][key]"
      ],
      "execution_count": null,
      "outputs": []
    },
    {
      "cell_type": "code",
      "metadata": {
        "id": "8QGP91nZA4d4"
      },
      "source": [
        "def aggregated_preprocess(data):\n",
        "    weighted_avg(data)\n",
        "    safetyRgs(data)\n",
        "    safetyCode(data)\n",
        "    cleaning_dict(data)"
      ],
      "execution_count": null,
      "outputs": []
    },
    {
      "cell_type": "code",
      "metadata": {
        "id": "6-XWKN7PA4d5"
      },
      "source": [
        "safetyRgs(data)"
      ],
      "execution_count": null,
      "outputs": []
    },
    {
      "cell_type": "code",
      "metadata": {
        "id": "0phiZiiCA4d5"
      },
      "source": [
        "safetyCode(data)"
      ],
      "execution_count": null,
      "outputs": []
    },
    {
      "cell_type": "code",
      "metadata": {
        "id": "vC6ktPbZA4d6"
      },
      "source": [
        "cleaning_dict(data)"
      ],
      "execution_count": null,
      "outputs": []
    },
    {
      "cell_type": "code",
      "metadata": {
        "id": "EZ-WdfjNA4d7"
      },
      "source": [
        "colnames = list(data['000058bfe6e54df8b37e66d1a3c9d246']['000058bfe6e54df8b37e66d1a3c9d246-50000'].keys())"
      ],
      "execution_count": null,
      "outputs": []
    },
    {
      "cell_type": "code",
      "metadata": {
        "id": "W7dbCt1QA4d7",
        "outputId": "d4e411a3-9cae-4440-a073-0af38ac36b7e"
      },
      "source": [
        "# read heavy user list to preprocess\n",
        "heavy_user_df = pd.read_csv('/project/kakao/heavy_counter50_df.csv', index_col = [0])\n",
        "heavy_user_df.head()"
      ],
      "execution_count": null,
      "outputs": [
        {
          "output_type": "execute_result",
          "data": {
            "text/html": [
              "<div>\n",
              "<style scoped>\n",
              "    .dataframe tbody tr th:only-of-type {\n",
              "        vertical-align: middle;\n",
              "    }\n",
              "\n",
              "    .dataframe tbody tr th {\n",
              "        vertical-align: top;\n",
              "    }\n",
              "\n",
              "    .dataframe thead th {\n",
              "        text-align: right;\n",
              "    }\n",
              "</style>\n",
              "<table border=\"1\" class=\"dataframe\">\n",
              "  <thead>\n",
              "    <tr style=\"text-align: right;\">\n",
              "      <th></th>\n",
              "      <th>userName</th>\n",
              "      <th>num_trip</th>\n",
              "    </tr>\n",
              "  </thead>\n",
              "  <tbody>\n",
              "    <tr>\n",
              "      <th>0</th>\n",
              "      <td>EscOJ2w6Ao5UK0BRZ0Vaco8jATTzJnOcdLPXDlhfLMY</td>\n",
              "      <td>55</td>\n",
              "    </tr>\n",
              "    <tr>\n",
              "      <th>1</th>\n",
              "      <td>7-ZMS4MglSKXK7FnmyxaPW96wOC7vOcTEz8zpfuEHiQ</td>\n",
              "      <td>68</td>\n",
              "    </tr>\n",
              "    <tr>\n",
              "      <th>2</th>\n",
              "      <td>7Z_2p1x7e3tyTgqDCqMdGRJJAEEf_yko4mUJEQAsnGM</td>\n",
              "      <td>78</td>\n",
              "    </tr>\n",
              "    <tr>\n",
              "      <th>3</th>\n",
              "      <td>CS82Z6MvliUw3FkVzFuD1Pejh5HVqL7uJHcmSfz_9O4</td>\n",
              "      <td>112</td>\n",
              "    </tr>\n",
              "    <tr>\n",
              "      <th>4</th>\n",
              "      <td>A73vKodeN7w04pzOcoqpBv9PwNZ-xzTqhuyzsVga4bc</td>\n",
              "      <td>322</td>\n",
              "    </tr>\n",
              "  </tbody>\n",
              "</table>\n",
              "</div>"
            ],
            "text/plain": [
              "                                      userName  num_trip\n",
              "0  EscOJ2w6Ao5UK0BRZ0Vaco8jATTzJnOcdLPXDlhfLMY        55\n",
              "1  7-ZMS4MglSKXK7FnmyxaPW96wOC7vOcTEz8zpfuEHiQ        68\n",
              "2  7Z_2p1x7e3tyTgqDCqMdGRJJAEEf_yko4mUJEQAsnGM        78\n",
              "3  CS82Z6MvliUw3FkVzFuD1Pejh5HVqL7uJHcmSfz_9O4       112\n",
              "4  A73vKodeN7w04pzOcoqpBv9PwNZ-xzTqhuyzsVga4bc       322"
            ]
          },
          "metadata": {
            "tags": []
          },
          "execution_count": 10
        }
      ]
    },
    {
      "cell_type": "code",
      "metadata": {
        "id": "XL4YomzZA4d8"
      },
      "source": [
        "# list of heavy users\n",
        "heavy_user_list = list(heavy_user_df.userName)"
      ],
      "execution_count": null,
      "outputs": []
    },
    {
      "cell_type": "code",
      "metadata": {
        "id": "d6_bQMWkA4d8",
        "outputId": "d2daeb2b-57fe-41cd-f90c-f6896975f41c"
      },
      "source": [
        "len(heavy_user_list)"
      ],
      "execution_count": null,
      "outputs": [
        {
          "output_type": "execute_result",
          "data": {
            "text/plain": [
              "2054"
            ]
          },
          "metadata": {
            "tags": []
          },
          "execution_count": 12
        }
      ]
    },
    {
      "cell_type": "code",
      "metadata": {
        "colab": {
          "referenced_widgets": [
            "89f286b4eb214edfa533ff9d6b232e16"
          ]
        },
        "id": "YR2_wyCYA4d-",
        "outputId": "af31c485-0b89-4cb2-ac6a-7730a97877e7"
      },
      "source": [
        "df_lst = []\n",
        "\n",
        "for i in tqdm(weekend_date):\n",
        "    with open('/project/kakao/rs_merged_2019'+i+'.pickle','rb') as f:\n",
        "        data = pickle.load(f)\n",
        "        assign_magnitude(data)\n",
        "        weighted_avg(data)\n",
        "        safetyRgs(data)\n",
        "        safetyCode(data)\n",
        "        cleaning_dict(data)\n",
        "    for trip in data.keys():\n",
        "        try:\n",
        "            if data[trip][list(data[trip].keys())[0]]['userName'] in heavy_user_list:\n",
        "                d = data[trip]\n",
        "                df = pd.concat([pd.DataFrame.from_dict([d[list(d.keys())[0]]],orient = 'columns'),pd.DataFrame.from_dict([d[list(d.keys())[1]]],orient = 'columns')],axis = 1)\n",
        "                df_lst.append(df)\n",
        "                df.to_csv('/project/kakao/preprocessed_data/heavy_user_weekend_df.csv', mode='a', header=False)\n",
        "\n",
        "        except:\n",
        "            pass\n",
        "\n",
        "\n",
        ""
      ],
      "execution_count": null,
      "outputs": [
        {
          "output_type": "display_data",
          "data": {
            "application/vnd.jupyter.widget-view+json": {
              "model_id": "89f286b4eb214edfa533ff9d6b232e16",
              "version_major": 2,
              "version_minor": 0
            },
            "text/plain": [
              "HBox(children=(HTML(value=''), FloatProgress(value=0.0, max=24.0), HTML(value='')))"
            ]
          },
          "metadata": {
            "tags": []
          }
        },
        {
          "output_type": "stream",
          "text": [
            "\n"
          ],
          "name": "stdout"
        }
      ]
    },
    {
      "cell_type": "code",
      "metadata": {
        "id": "HIzMJBqiA4eA"
      },
      "source": [
        "colnames = ['forecast_time','distance','fare','s_hcode','e_hcode','default','selected','userName','requestTime','routePointCount',\n",
        "           'routeDistance','routeTravelTime','routeLinkCount','rgCount','safeyRgCount','roadType','facilityType','laneCount','limitSpeed',\n",
        "           'currentTrafficSpeed','safetyCount','safetyCode']\n"
      ],
      "execution_count": null,
      "outputs": []
    },
    {
      "cell_type": "code",
      "metadata": {
        "id": "8zOu22dgA4eA",
        "outputId": "49b463d7-b18b-42e2-ab71-4530c97ba2c6"
      },
      "source": [
        "df = pd.read_csv('/project/kakao/preprocessed_data/heavy_user_weekend_df.csv', skiprows = 1, header=None)\n",
        "# Drop first column of dataframe\n",
        "df = df.iloc[: , 1:]\n",
        "df.head()"
      ],
      "execution_count": null,
      "outputs": [
        {
          "output_type": "execute_result",
          "data": {
            "text/html": [
              "<div>\n",
              "<style scoped>\n",
              "    .dataframe tbody tr th:only-of-type {\n",
              "        vertical-align: middle;\n",
              "    }\n",
              "\n",
              "    .dataframe tbody tr th {\n",
              "        vertical-align: top;\n",
              "    }\n",
              "\n",
              "    .dataframe thead th {\n",
              "        text-align: right;\n",
              "    }\n",
              "</style>\n",
              "<table border=\"1\" class=\"dataframe\">\n",
              "  <thead>\n",
              "    <tr style=\"text-align: right;\">\n",
              "      <th></th>\n",
              "      <th>1</th>\n",
              "      <th>2</th>\n",
              "      <th>3</th>\n",
              "      <th>4</th>\n",
              "      <th>5</th>\n",
              "      <th>6</th>\n",
              "      <th>7</th>\n",
              "      <th>8</th>\n",
              "      <th>9</th>\n",
              "      <th>10</th>\n",
              "      <th>11</th>\n",
              "      <th>12</th>\n",
              "      <th>13</th>\n",
              "      <th>14</th>\n",
              "      <th>15</th>\n",
              "      <th>16</th>\n",
              "      <th>17</th>\n",
              "      <th>18</th>\n",
              "      <th>19</th>\n",
              "      <th>20</th>\n",
              "      <th>21</th>\n",
              "      <th>22</th>\n",
              "      <th>23</th>\n",
              "      <th>24</th>\n",
              "      <th>25</th>\n",
              "      <th>26</th>\n",
              "      <th>27</th>\n",
              "      <th>28</th>\n",
              "      <th>29</th>\n",
              "      <th>30</th>\n",
              "      <th>31</th>\n",
              "      <th>32</th>\n",
              "      <th>33</th>\n",
              "      <th>34</th>\n",
              "      <th>35</th>\n",
              "      <th>36</th>\n",
              "      <th>37</th>\n",
              "      <th>38</th>\n",
              "      <th>39</th>\n",
              "      <th>40</th>\n",
              "      <th>41</th>\n",
              "      <th>42</th>\n",
              "      <th>43</th>\n",
              "      <th>44</th>\n",
              "    </tr>\n",
              "  </thead>\n",
              "  <tbody>\n",
              "    <tr>\n",
              "      <th>0</th>\n",
              "      <td>2092</td>\n",
              "      <td>27125</td>\n",
              "      <td>0</td>\n",
              "      <td>5011065000</td>\n",
              "      <td>5013031000</td>\n",
              "      <td>0.0</td>\n",
              "      <td>1.0</td>\n",
              "      <td>7-ZMS4MglSKXK7FnmyxaPW96wOC7vOcTEz8zpfuEHiQ</td>\n",
              "      <td>2019-07-27T08:52:06.522</td>\n",
              "      <td>396</td>\n",
              "      <td>27125</td>\n",
              "      <td>2092</td>\n",
              "      <td>148</td>\n",
              "      <td>7</td>\n",
              "      <td>24</td>\n",
              "      <td>274</td>\n",
              "      <td>0</td>\n",
              "      <td>4.154728</td>\n",
              "      <td>72.950046</td>\n",
              "      <td>61.665806</td>\n",
              "      <td>30.0</td>\n",
              "      <td>-28.0</td>\n",
              "      <td>2108</td>\n",
              "      <td>27125</td>\n",
              "      <td>0</td>\n",
              "      <td>5011065000</td>\n",
              "      <td>5013031000</td>\n",
              "      <td>1.0</td>\n",
              "      <td>0.0</td>\n",
              "      <td>7-ZMS4MglSKXK7FnmyxaPW96wOC7vOcTEz8zpfuEHiQ</td>\n",
              "      <td>2019-07-27T09:18:43.405</td>\n",
              "      <td>73.0</td>\n",
              "      <td>3209.0</td>\n",
              "      <td>281.0</td>\n",
              "      <td>22.0</td>\n",
              "      <td>5.0</td>\n",
              "      <td>7.0</td>\n",
              "      <td>28.0</td>\n",
              "      <td>0.0</td>\n",
              "      <td>1.852602</td>\n",
              "      <td>46.880648</td>\n",
              "      <td>44.483017</td>\n",
              "      <td>10.0</td>\n",
              "      <td>-10.0</td>\n",
              "    </tr>\n",
              "    <tr>\n",
              "      <th>1</th>\n",
              "      <td>5129</td>\n",
              "      <td>63620</td>\n",
              "      <td>0</td>\n",
              "      <td>5011025300</td>\n",
              "      <td>5013025900</td>\n",
              "      <td>0.0</td>\n",
              "      <td>1.0</td>\n",
              "      <td>7Z_2p1x7e3tyTgqDCqMdGRJJAEEf_yko4mUJEQAsnGM</td>\n",
              "      <td>2019-07-27T12:49:05.372</td>\n",
              "      <td>251</td>\n",
              "      <td>12805</td>\n",
              "      <td>1266</td>\n",
              "      <td>84</td>\n",
              "      <td>9</td>\n",
              "      <td>17</td>\n",
              "      <td>132</td>\n",
              "      <td>0</td>\n",
              "      <td>2.622882</td>\n",
              "      <td>59.161265</td>\n",
              "      <td>42.696369</td>\n",
              "      <td>20.0</td>\n",
              "      <td>-19.0</td>\n",
              "      <td>5172</td>\n",
              "      <td>64381</td>\n",
              "      <td>0</td>\n",
              "      <td>5011025300</td>\n",
              "      <td>5013025900</td>\n",
              "      <td>1.0</td>\n",
              "      <td>0.0</td>\n",
              "      <td>7Z_2p1x7e3tyTgqDCqMdGRJJAEEf_yko4mUJEQAsnGM</td>\n",
              "      <td>2019-07-27T12:49:05.374</td>\n",
              "      <td>247.0</td>\n",
              "      <td>13021.0</td>\n",
              "      <td>1224.0</td>\n",
              "      <td>81.0</td>\n",
              "      <td>8.0</td>\n",
              "      <td>15.0</td>\n",
              "      <td>127.0</td>\n",
              "      <td>0.0</td>\n",
              "      <td>2.604562</td>\n",
              "      <td>58.990093</td>\n",
              "      <td>43.063897</td>\n",
              "      <td>18.0</td>\n",
              "      <td>-18.0</td>\n",
              "    </tr>\n",
              "    <tr>\n",
              "      <th>2</th>\n",
              "      <td>188</td>\n",
              "      <td>1159</td>\n",
              "      <td>0</td>\n",
              "      <td>4113559000</td>\n",
              "      <td>4113551000</td>\n",
              "      <td>0.0</td>\n",
              "      <td>1.0</td>\n",
              "      <td>CS82Z6MvliUw3FkVzFuD1Pejh5HVqL7uJHcmSfz_9O4</td>\n",
              "      <td>2019-07-27T12:59:57.027</td>\n",
              "      <td>36</td>\n",
              "      <td>1159</td>\n",
              "      <td>188</td>\n",
              "      <td>11</td>\n",
              "      <td>5</td>\n",
              "      <td>0</td>\n",
              "      <td>9</td>\n",
              "      <td>0</td>\n",
              "      <td>3.845557</td>\n",
              "      <td>58.878343</td>\n",
              "      <td>38.415013</td>\n",
              "      <td>NaN</td>\n",
              "      <td>NaN</td>\n",
              "      <td>188</td>\n",
              "      <td>1159</td>\n",
              "      <td>0</td>\n",
              "      <td>4113559000</td>\n",
              "      <td>4113551000</td>\n",
              "      <td>1.0</td>\n",
              "      <td>0.0</td>\n",
              "      <td>CS82Z6MvliUw3FkVzFuD1Pejh5HVqL7uJHcmSfz_9O4</td>\n",
              "      <td>2019-07-27T12:59:57.027</td>\n",
              "      <td>36.0</td>\n",
              "      <td>1159.0</td>\n",
              "      <td>188.0</td>\n",
              "      <td>11.0</td>\n",
              "      <td>5.0</td>\n",
              "      <td>0.0</td>\n",
              "      <td>9.0</td>\n",
              "      <td>0.0</td>\n",
              "      <td>3.845557</td>\n",
              "      <td>58.878343</td>\n",
              "      <td>38.415013</td>\n",
              "      <td>NaN</td>\n",
              "      <td>NaN</td>\n",
              "    </tr>\n",
              "    <tr>\n",
              "      <th>3</th>\n",
              "      <td>846</td>\n",
              "      <td>3513</td>\n",
              "      <td>0</td>\n",
              "      <td>2726058000</td>\n",
              "      <td>2726062000</td>\n",
              "      <td>0.0</td>\n",
              "      <td>1.0</td>\n",
              "      <td>A73vKodeN7w04pzOcoqpBv9PwNZ-xzTqhuyzsVga4bc</td>\n",
              "      <td>2019-07-27T18:12:45.224</td>\n",
              "      <td>104</td>\n",
              "      <td>3513</td>\n",
              "      <td>846</td>\n",
              "      <td>52</td>\n",
              "      <td>4</td>\n",
              "      <td>4</td>\n",
              "      <td>52</td>\n",
              "      <td>0</td>\n",
              "      <td>7.015087</td>\n",
              "      <td>57.275833</td>\n",
              "      <td>21.165955</td>\n",
              "      <td>4.0</td>\n",
              "      <td>-4.0</td>\n",
              "      <td>911</td>\n",
              "      <td>5676</td>\n",
              "      <td>0</td>\n",
              "      <td>2726058000</td>\n",
              "      <td>2726062000</td>\n",
              "      <td>1.0</td>\n",
              "      <td>0.0</td>\n",
              "      <td>A73vKodeN7w04pzOcoqpBv9PwNZ-xzTqhuyzsVga4bc</td>\n",
              "      <td>2019-07-27T18:12:45.221</td>\n",
              "      <td>171.0</td>\n",
              "      <td>5676.0</td>\n",
              "      <td>911.0</td>\n",
              "      <td>54.0</td>\n",
              "      <td>12.0</td>\n",
              "      <td>3.0</td>\n",
              "      <td>98.0</td>\n",
              "      <td>5.0</td>\n",
              "      <td>3.127731</td>\n",
              "      <td>70.433404</td>\n",
              "      <td>34.420014</td>\n",
              "      <td>3.0</td>\n",
              "      <td>-3.0</td>\n",
              "    </tr>\n",
              "    <tr>\n",
              "      <th>4</th>\n",
              "      <td>659</td>\n",
              "      <td>6650</td>\n",
              "      <td>0</td>\n",
              "      <td>5013031000</td>\n",
              "      <td>5013025000</td>\n",
              "      <td>0.0</td>\n",
              "      <td>1.0</td>\n",
              "      <td>KA1zrTUh7JsDSYG9iYSqFEDwNZ_4LOMgxwbOxgkueBY</td>\n",
              "      <td>2019-07-27T14:30:21.141</td>\n",
              "      <td>256</td>\n",
              "      <td>9655</td>\n",
              "      <td>970</td>\n",
              "      <td>86</td>\n",
              "      <td>11</td>\n",
              "      <td>15</td>\n",
              "      <td>127</td>\n",
              "      <td>0</td>\n",
              "      <td>2.546142</td>\n",
              "      <td>55.113413</td>\n",
              "      <td>45.919420</td>\n",
              "      <td>18.0</td>\n",
              "      <td>-17.0</td>\n",
              "      <td>659</td>\n",
              "      <td>6650</td>\n",
              "      <td>0</td>\n",
              "      <td>5013031000</td>\n",
              "      <td>5013025000</td>\n",
              "      <td>1.0</td>\n",
              "      <td>0.0</td>\n",
              "      <td>KA1zrTUh7JsDSYG9iYSqFEDwNZ_4LOMgxwbOxgkueBY</td>\n",
              "      <td>2019-07-27T14:30:21.142</td>\n",
              "      <td>256.0</td>\n",
              "      <td>9655.0</td>\n",
              "      <td>970.0</td>\n",
              "      <td>86.0</td>\n",
              "      <td>11.0</td>\n",
              "      <td>15.0</td>\n",
              "      <td>127.0</td>\n",
              "      <td>0.0</td>\n",
              "      <td>2.546142</td>\n",
              "      <td>55.113413</td>\n",
              "      <td>45.919420</td>\n",
              "      <td>18.0</td>\n",
              "      <td>-17.0</td>\n",
              "    </tr>\n",
              "  </tbody>\n",
              "</table>\n",
              "</div>"
            ],
            "text/plain": [
              "     1      2   3           4           5    6    7   \\\n",
              "0  2092  27125   0  5011065000  5013031000  0.0  1.0   \n",
              "1  5129  63620   0  5011025300  5013025900  0.0  1.0   \n",
              "2   188   1159   0  4113559000  4113551000  0.0  1.0   \n",
              "3   846   3513   0  2726058000  2726062000  0.0  1.0   \n",
              "4   659   6650   0  5013031000  5013025000  0.0  1.0   \n",
              "\n",
              "                                            8                        9    10  \\\n",
              "0  7-ZMS4MglSKXK7FnmyxaPW96wOC7vOcTEz8zpfuEHiQ  2019-07-27T08:52:06.522  396   \n",
              "1  7Z_2p1x7e3tyTgqDCqMdGRJJAEEf_yko4mUJEQAsnGM  2019-07-27T12:49:05.372  251   \n",
              "2  CS82Z6MvliUw3FkVzFuD1Pejh5HVqL7uJHcmSfz_9O4  2019-07-27T12:59:57.027   36   \n",
              "3  A73vKodeN7w04pzOcoqpBv9PwNZ-xzTqhuyzsVga4bc  2019-07-27T18:12:45.224  104   \n",
              "4  KA1zrTUh7JsDSYG9iYSqFEDwNZ_4LOMgxwbOxgkueBY  2019-07-27T14:30:21.141  256   \n",
              "\n",
              "      11    12   13  14  15   16  17        18         19         20    21  \\\n",
              "0  27125  2092  148   7  24  274   0  4.154728  72.950046  61.665806  30.0   \n",
              "1  12805  1266   84   9  17  132   0  2.622882  59.161265  42.696369  20.0   \n",
              "2   1159   188   11   5   0    9   0  3.845557  58.878343  38.415013   NaN   \n",
              "3   3513   846   52   4   4   52   0  7.015087  57.275833  21.165955   4.0   \n",
              "4   9655   970   86  11  15  127   0  2.546142  55.113413  45.919420  18.0   \n",
              "\n",
              "     22    23     24  25          26          27   28   29  \\\n",
              "0 -28.0  2108  27125   0  5011065000  5013031000  1.0  0.0   \n",
              "1 -19.0  5172  64381   0  5011025300  5013025900  1.0  0.0   \n",
              "2   NaN   188   1159   0  4113559000  4113551000  1.0  0.0   \n",
              "3  -4.0   911   5676   0  2726058000  2726062000  1.0  0.0   \n",
              "4 -17.0   659   6650   0  5013031000  5013025000  1.0  0.0   \n",
              "\n",
              "                                            30                       31  \\\n",
              "0  7-ZMS4MglSKXK7FnmyxaPW96wOC7vOcTEz8zpfuEHiQ  2019-07-27T09:18:43.405   \n",
              "1  7Z_2p1x7e3tyTgqDCqMdGRJJAEEf_yko4mUJEQAsnGM  2019-07-27T12:49:05.374   \n",
              "2  CS82Z6MvliUw3FkVzFuD1Pejh5HVqL7uJHcmSfz_9O4  2019-07-27T12:59:57.027   \n",
              "3  A73vKodeN7w04pzOcoqpBv9PwNZ-xzTqhuyzsVga4bc  2019-07-27T18:12:45.221   \n",
              "4  KA1zrTUh7JsDSYG9iYSqFEDwNZ_4LOMgxwbOxgkueBY  2019-07-27T14:30:21.142   \n",
              "\n",
              "      32       33      34    35    36    37     38   39        40         41  \\\n",
              "0   73.0   3209.0   281.0  22.0   5.0   7.0   28.0  0.0  1.852602  46.880648   \n",
              "1  247.0  13021.0  1224.0  81.0   8.0  15.0  127.0  0.0  2.604562  58.990093   \n",
              "2   36.0   1159.0   188.0  11.0   5.0   0.0    9.0  0.0  3.845557  58.878343   \n",
              "3  171.0   5676.0   911.0  54.0  12.0   3.0   98.0  5.0  3.127731  70.433404   \n",
              "4  256.0   9655.0   970.0  86.0  11.0  15.0  127.0  0.0  2.546142  55.113413   \n",
              "\n",
              "          42    43    44  \n",
              "0  44.483017  10.0 -10.0  \n",
              "1  43.063897  18.0 -18.0  \n",
              "2  38.415013   NaN   NaN  \n",
              "3  34.420014   3.0  -3.0  \n",
              "4  45.919420  18.0 -17.0  "
            ]
          },
          "metadata": {
            "tags": []
          },
          "execution_count": 28
        }
      ]
    },
    {
      "cell_type": "code",
      "metadata": {
        "id": "NCBRe7ySA4eB",
        "outputId": "927ec6b4-6ffa-4dd9-e4fe-11ad6ce18b5e"
      },
      "source": [
        "df.columns = colnames + colnames\n",
        "df.head()"
      ],
      "execution_count": null,
      "outputs": [
        {
          "output_type": "execute_result",
          "data": {
            "text/html": [
              "<div>\n",
              "<style scoped>\n",
              "    .dataframe tbody tr th:only-of-type {\n",
              "        vertical-align: middle;\n",
              "    }\n",
              "\n",
              "    .dataframe tbody tr th {\n",
              "        vertical-align: top;\n",
              "    }\n",
              "\n",
              "    .dataframe thead th {\n",
              "        text-align: right;\n",
              "    }\n",
              "</style>\n",
              "<table border=\"1\" class=\"dataframe\">\n",
              "  <thead>\n",
              "    <tr style=\"text-align: right;\">\n",
              "      <th></th>\n",
              "      <th>forecast_time</th>\n",
              "      <th>distance</th>\n",
              "      <th>fare</th>\n",
              "      <th>s_hcode</th>\n",
              "      <th>e_hcode</th>\n",
              "      <th>default</th>\n",
              "      <th>selected</th>\n",
              "      <th>userName</th>\n",
              "      <th>requestTime</th>\n",
              "      <th>routePointCount</th>\n",
              "      <th>routeDistance</th>\n",
              "      <th>routeTravelTime</th>\n",
              "      <th>routeLinkCount</th>\n",
              "      <th>rgCount</th>\n",
              "      <th>safeyRgCount</th>\n",
              "      <th>roadType</th>\n",
              "      <th>facilityType</th>\n",
              "      <th>laneCount</th>\n",
              "      <th>limitSpeed</th>\n",
              "      <th>currentTrafficSpeed</th>\n",
              "      <th>safetyCount</th>\n",
              "      <th>safetyCode</th>\n",
              "      <th>forecast_time</th>\n",
              "      <th>distance</th>\n",
              "      <th>fare</th>\n",
              "      <th>s_hcode</th>\n",
              "      <th>e_hcode</th>\n",
              "      <th>default</th>\n",
              "      <th>selected</th>\n",
              "      <th>userName</th>\n",
              "      <th>requestTime</th>\n",
              "      <th>routePointCount</th>\n",
              "      <th>routeDistance</th>\n",
              "      <th>routeTravelTime</th>\n",
              "      <th>routeLinkCount</th>\n",
              "      <th>rgCount</th>\n",
              "      <th>safeyRgCount</th>\n",
              "      <th>roadType</th>\n",
              "      <th>facilityType</th>\n",
              "      <th>laneCount</th>\n",
              "      <th>limitSpeed</th>\n",
              "      <th>currentTrafficSpeed</th>\n",
              "      <th>safetyCount</th>\n",
              "      <th>safetyCode</th>\n",
              "    </tr>\n",
              "  </thead>\n",
              "  <tbody>\n",
              "    <tr>\n",
              "      <th>0</th>\n",
              "      <td>2092</td>\n",
              "      <td>27125</td>\n",
              "      <td>0</td>\n",
              "      <td>5011065000</td>\n",
              "      <td>5013031000</td>\n",
              "      <td>0.0</td>\n",
              "      <td>1.0</td>\n",
              "      <td>7-ZMS4MglSKXK7FnmyxaPW96wOC7vOcTEz8zpfuEHiQ</td>\n",
              "      <td>2019-07-27T08:52:06.522</td>\n",
              "      <td>396</td>\n",
              "      <td>27125</td>\n",
              "      <td>2092</td>\n",
              "      <td>148</td>\n",
              "      <td>7</td>\n",
              "      <td>24</td>\n",
              "      <td>274</td>\n",
              "      <td>0</td>\n",
              "      <td>4.154728</td>\n",
              "      <td>72.950046</td>\n",
              "      <td>61.665806</td>\n",
              "      <td>30.0</td>\n",
              "      <td>-28.0</td>\n",
              "      <td>2108</td>\n",
              "      <td>27125</td>\n",
              "      <td>0</td>\n",
              "      <td>5011065000</td>\n",
              "      <td>5013031000</td>\n",
              "      <td>1.0</td>\n",
              "      <td>0.0</td>\n",
              "      <td>7-ZMS4MglSKXK7FnmyxaPW96wOC7vOcTEz8zpfuEHiQ</td>\n",
              "      <td>2019-07-27T09:18:43.405</td>\n",
              "      <td>73.0</td>\n",
              "      <td>3209.0</td>\n",
              "      <td>281.0</td>\n",
              "      <td>22.0</td>\n",
              "      <td>5.0</td>\n",
              "      <td>7.0</td>\n",
              "      <td>28.0</td>\n",
              "      <td>0.0</td>\n",
              "      <td>1.852602</td>\n",
              "      <td>46.880648</td>\n",
              "      <td>44.483017</td>\n",
              "      <td>10.0</td>\n",
              "      <td>-10.0</td>\n",
              "    </tr>\n",
              "    <tr>\n",
              "      <th>1</th>\n",
              "      <td>5129</td>\n",
              "      <td>63620</td>\n",
              "      <td>0</td>\n",
              "      <td>5011025300</td>\n",
              "      <td>5013025900</td>\n",
              "      <td>0.0</td>\n",
              "      <td>1.0</td>\n",
              "      <td>7Z_2p1x7e3tyTgqDCqMdGRJJAEEf_yko4mUJEQAsnGM</td>\n",
              "      <td>2019-07-27T12:49:05.372</td>\n",
              "      <td>251</td>\n",
              "      <td>12805</td>\n",
              "      <td>1266</td>\n",
              "      <td>84</td>\n",
              "      <td>9</td>\n",
              "      <td>17</td>\n",
              "      <td>132</td>\n",
              "      <td>0</td>\n",
              "      <td>2.622882</td>\n",
              "      <td>59.161265</td>\n",
              "      <td>42.696369</td>\n",
              "      <td>20.0</td>\n",
              "      <td>-19.0</td>\n",
              "      <td>5172</td>\n",
              "      <td>64381</td>\n",
              "      <td>0</td>\n",
              "      <td>5011025300</td>\n",
              "      <td>5013025900</td>\n",
              "      <td>1.0</td>\n",
              "      <td>0.0</td>\n",
              "      <td>7Z_2p1x7e3tyTgqDCqMdGRJJAEEf_yko4mUJEQAsnGM</td>\n",
              "      <td>2019-07-27T12:49:05.374</td>\n",
              "      <td>247.0</td>\n",
              "      <td>13021.0</td>\n",
              "      <td>1224.0</td>\n",
              "      <td>81.0</td>\n",
              "      <td>8.0</td>\n",
              "      <td>15.0</td>\n",
              "      <td>127.0</td>\n",
              "      <td>0.0</td>\n",
              "      <td>2.604562</td>\n",
              "      <td>58.990093</td>\n",
              "      <td>43.063897</td>\n",
              "      <td>18.0</td>\n",
              "      <td>-18.0</td>\n",
              "    </tr>\n",
              "    <tr>\n",
              "      <th>2</th>\n",
              "      <td>188</td>\n",
              "      <td>1159</td>\n",
              "      <td>0</td>\n",
              "      <td>4113559000</td>\n",
              "      <td>4113551000</td>\n",
              "      <td>0.0</td>\n",
              "      <td>1.0</td>\n",
              "      <td>CS82Z6MvliUw3FkVzFuD1Pejh5HVqL7uJHcmSfz_9O4</td>\n",
              "      <td>2019-07-27T12:59:57.027</td>\n",
              "      <td>36</td>\n",
              "      <td>1159</td>\n",
              "      <td>188</td>\n",
              "      <td>11</td>\n",
              "      <td>5</td>\n",
              "      <td>0</td>\n",
              "      <td>9</td>\n",
              "      <td>0</td>\n",
              "      <td>3.845557</td>\n",
              "      <td>58.878343</td>\n",
              "      <td>38.415013</td>\n",
              "      <td>NaN</td>\n",
              "      <td>NaN</td>\n",
              "      <td>188</td>\n",
              "      <td>1159</td>\n",
              "      <td>0</td>\n",
              "      <td>4113559000</td>\n",
              "      <td>4113551000</td>\n",
              "      <td>1.0</td>\n",
              "      <td>0.0</td>\n",
              "      <td>CS82Z6MvliUw3FkVzFuD1Pejh5HVqL7uJHcmSfz_9O4</td>\n",
              "      <td>2019-07-27T12:59:57.027</td>\n",
              "      <td>36.0</td>\n",
              "      <td>1159.0</td>\n",
              "      <td>188.0</td>\n",
              "      <td>11.0</td>\n",
              "      <td>5.0</td>\n",
              "      <td>0.0</td>\n",
              "      <td>9.0</td>\n",
              "      <td>0.0</td>\n",
              "      <td>3.845557</td>\n",
              "      <td>58.878343</td>\n",
              "      <td>38.415013</td>\n",
              "      <td>NaN</td>\n",
              "      <td>NaN</td>\n",
              "    </tr>\n",
              "    <tr>\n",
              "      <th>3</th>\n",
              "      <td>846</td>\n",
              "      <td>3513</td>\n",
              "      <td>0</td>\n",
              "      <td>2726058000</td>\n",
              "      <td>2726062000</td>\n",
              "      <td>0.0</td>\n",
              "      <td>1.0</td>\n",
              "      <td>A73vKodeN7w04pzOcoqpBv9PwNZ-xzTqhuyzsVga4bc</td>\n",
              "      <td>2019-07-27T18:12:45.224</td>\n",
              "      <td>104</td>\n",
              "      <td>3513</td>\n",
              "      <td>846</td>\n",
              "      <td>52</td>\n",
              "      <td>4</td>\n",
              "      <td>4</td>\n",
              "      <td>52</td>\n",
              "      <td>0</td>\n",
              "      <td>7.015087</td>\n",
              "      <td>57.275833</td>\n",
              "      <td>21.165955</td>\n",
              "      <td>4.0</td>\n",
              "      <td>-4.0</td>\n",
              "      <td>911</td>\n",
              "      <td>5676</td>\n",
              "      <td>0</td>\n",
              "      <td>2726058000</td>\n",
              "      <td>2726062000</td>\n",
              "      <td>1.0</td>\n",
              "      <td>0.0</td>\n",
              "      <td>A73vKodeN7w04pzOcoqpBv9PwNZ-xzTqhuyzsVga4bc</td>\n",
              "      <td>2019-07-27T18:12:45.221</td>\n",
              "      <td>171.0</td>\n",
              "      <td>5676.0</td>\n",
              "      <td>911.0</td>\n",
              "      <td>54.0</td>\n",
              "      <td>12.0</td>\n",
              "      <td>3.0</td>\n",
              "      <td>98.0</td>\n",
              "      <td>5.0</td>\n",
              "      <td>3.127731</td>\n",
              "      <td>70.433404</td>\n",
              "      <td>34.420014</td>\n",
              "      <td>3.0</td>\n",
              "      <td>-3.0</td>\n",
              "    </tr>\n",
              "    <tr>\n",
              "      <th>4</th>\n",
              "      <td>659</td>\n",
              "      <td>6650</td>\n",
              "      <td>0</td>\n",
              "      <td>5013031000</td>\n",
              "      <td>5013025000</td>\n",
              "      <td>0.0</td>\n",
              "      <td>1.0</td>\n",
              "      <td>KA1zrTUh7JsDSYG9iYSqFEDwNZ_4LOMgxwbOxgkueBY</td>\n",
              "      <td>2019-07-27T14:30:21.141</td>\n",
              "      <td>256</td>\n",
              "      <td>9655</td>\n",
              "      <td>970</td>\n",
              "      <td>86</td>\n",
              "      <td>11</td>\n",
              "      <td>15</td>\n",
              "      <td>127</td>\n",
              "      <td>0</td>\n",
              "      <td>2.546142</td>\n",
              "      <td>55.113413</td>\n",
              "      <td>45.919420</td>\n",
              "      <td>18.0</td>\n",
              "      <td>-17.0</td>\n",
              "      <td>659</td>\n",
              "      <td>6650</td>\n",
              "      <td>0</td>\n",
              "      <td>5013031000</td>\n",
              "      <td>5013025000</td>\n",
              "      <td>1.0</td>\n",
              "      <td>0.0</td>\n",
              "      <td>KA1zrTUh7JsDSYG9iYSqFEDwNZ_4LOMgxwbOxgkueBY</td>\n",
              "      <td>2019-07-27T14:30:21.142</td>\n",
              "      <td>256.0</td>\n",
              "      <td>9655.0</td>\n",
              "      <td>970.0</td>\n",
              "      <td>86.0</td>\n",
              "      <td>11.0</td>\n",
              "      <td>15.0</td>\n",
              "      <td>127.0</td>\n",
              "      <td>0.0</td>\n",
              "      <td>2.546142</td>\n",
              "      <td>55.113413</td>\n",
              "      <td>45.919420</td>\n",
              "      <td>18.0</td>\n",
              "      <td>-17.0</td>\n",
              "    </tr>\n",
              "  </tbody>\n",
              "</table>\n",
              "</div>"
            ],
            "text/plain": [
              "   forecast_time  distance  fare     s_hcode     e_hcode  default  selected  \\\n",
              "0           2092     27125     0  5011065000  5013031000      0.0       1.0   \n",
              "1           5129     63620     0  5011025300  5013025900      0.0       1.0   \n",
              "2            188      1159     0  4113559000  4113551000      0.0       1.0   \n",
              "3            846      3513     0  2726058000  2726062000      0.0       1.0   \n",
              "4            659      6650     0  5013031000  5013025000      0.0       1.0   \n",
              "\n",
              "                                      userName              requestTime  \\\n",
              "0  7-ZMS4MglSKXK7FnmyxaPW96wOC7vOcTEz8zpfuEHiQ  2019-07-27T08:52:06.522   \n",
              "1  7Z_2p1x7e3tyTgqDCqMdGRJJAEEf_yko4mUJEQAsnGM  2019-07-27T12:49:05.372   \n",
              "2  CS82Z6MvliUw3FkVzFuD1Pejh5HVqL7uJHcmSfz_9O4  2019-07-27T12:59:57.027   \n",
              "3  A73vKodeN7w04pzOcoqpBv9PwNZ-xzTqhuyzsVga4bc  2019-07-27T18:12:45.224   \n",
              "4  KA1zrTUh7JsDSYG9iYSqFEDwNZ_4LOMgxwbOxgkueBY  2019-07-27T14:30:21.141   \n",
              "\n",
              "   routePointCount  routeDistance  routeTravelTime  routeLinkCount  rgCount  \\\n",
              "0              396          27125             2092             148        7   \n",
              "1              251          12805             1266              84        9   \n",
              "2               36           1159              188              11        5   \n",
              "3              104           3513              846              52        4   \n",
              "4              256           9655              970              86       11   \n",
              "\n",
              "   safeyRgCount  roadType  facilityType  laneCount  limitSpeed  \\\n",
              "0            24       274             0   4.154728   72.950046   \n",
              "1            17       132             0   2.622882   59.161265   \n",
              "2             0         9             0   3.845557   58.878343   \n",
              "3             4        52             0   7.015087   57.275833   \n",
              "4            15       127             0   2.546142   55.113413   \n",
              "\n",
              "   currentTrafficSpeed  safetyCount  safetyCode  forecast_time  distance  \\\n",
              "0            61.665806         30.0       -28.0           2108     27125   \n",
              "1            42.696369         20.0       -19.0           5172     64381   \n",
              "2            38.415013          NaN         NaN            188      1159   \n",
              "3            21.165955          4.0        -4.0            911      5676   \n",
              "4            45.919420         18.0       -17.0            659      6650   \n",
              "\n",
              "   fare     s_hcode     e_hcode  default  selected  \\\n",
              "0     0  5011065000  5013031000      1.0       0.0   \n",
              "1     0  5011025300  5013025900      1.0       0.0   \n",
              "2     0  4113559000  4113551000      1.0       0.0   \n",
              "3     0  2726058000  2726062000      1.0       0.0   \n",
              "4     0  5013031000  5013025000      1.0       0.0   \n",
              "\n",
              "                                      userName              requestTime  \\\n",
              "0  7-ZMS4MglSKXK7FnmyxaPW96wOC7vOcTEz8zpfuEHiQ  2019-07-27T09:18:43.405   \n",
              "1  7Z_2p1x7e3tyTgqDCqMdGRJJAEEf_yko4mUJEQAsnGM  2019-07-27T12:49:05.374   \n",
              "2  CS82Z6MvliUw3FkVzFuD1Pejh5HVqL7uJHcmSfz_9O4  2019-07-27T12:59:57.027   \n",
              "3  A73vKodeN7w04pzOcoqpBv9PwNZ-xzTqhuyzsVga4bc  2019-07-27T18:12:45.221   \n",
              "4  KA1zrTUh7JsDSYG9iYSqFEDwNZ_4LOMgxwbOxgkueBY  2019-07-27T14:30:21.142   \n",
              "\n",
              "   routePointCount  routeDistance  routeTravelTime  routeLinkCount  rgCount  \\\n",
              "0             73.0         3209.0            281.0            22.0      5.0   \n",
              "1            247.0        13021.0           1224.0            81.0      8.0   \n",
              "2             36.0         1159.0            188.0            11.0      5.0   \n",
              "3            171.0         5676.0            911.0            54.0     12.0   \n",
              "4            256.0         9655.0            970.0            86.0     11.0   \n",
              "\n",
              "   safeyRgCount  roadType  facilityType  laneCount  limitSpeed  \\\n",
              "0           7.0      28.0           0.0   1.852602   46.880648   \n",
              "1          15.0     127.0           0.0   2.604562   58.990093   \n",
              "2           0.0       9.0           0.0   3.845557   58.878343   \n",
              "3           3.0      98.0           5.0   3.127731   70.433404   \n",
              "4          15.0     127.0           0.0   2.546142   55.113413   \n",
              "\n",
              "   currentTrafficSpeed  safetyCount  safetyCode  \n",
              "0            44.483017         10.0       -10.0  \n",
              "1            43.063897         18.0       -18.0  \n",
              "2            38.415013          NaN         NaN  \n",
              "3            34.420014          3.0        -3.0  \n",
              "4            45.919420         18.0       -17.0  "
            ]
          },
          "metadata": {
            "tags": []
          },
          "execution_count": 31
        }
      ]
    }
  ]
}