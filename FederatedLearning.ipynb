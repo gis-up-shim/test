{
  "cells": [
    {
      "cell_type": "markdown",
      "metadata": {
        "id": "view-in-github",
        "colab_type": "text"
      },
      "source": [
        "<a href=\"https://colab.research.google.com/github/gis-up-shim/test/blob/main/FederatedLearning.ipynb\" target=\"_parent\"><img src=\"https://colab.research.google.com/assets/colab-badge.svg\" alt=\"Open In Colab\"/></a>"
      ]
    },
    {
      "cell_type": "code",
      "execution_count": null,
      "metadata": {
        "id": "-B8tlx2dvaJi"
      },
      "outputs": [],
      "source": [
        "import pandas as pd\n",
        "import numpy as np\n",
        "import random\n",
        "import collections\n",
        "import matplotlib.pyplot as plt\n",
        "import seaborn as sns\n",
        "from matplotlib import pyplot\n",
        "from sklearn.preprocessing import StandardScaler\n",
        "from sklearn.model_selection import train_test_split\n",
        "import matplotlib as mpl\n",
        "import sklearn\n",
        "from sklearn.metrics import confusion_matrix"
      ]
    },
    {
      "cell_type": "code",
      "execution_count": null,
      "metadata": {
        "id": "MvqC1KUYvaJj"
      },
      "outputs": [],
      "source": [
        "from tensorflow import keras\n",
        "import tensorflow as tf"
      ]
    },
    {
      "cell_type": "code",
      "execution_count": null,
      "metadata": {
        "id": "vCS284Y5vaJk",
        "outputId": "d740928f-77d7-4317-ab0a-778595eb625f"
      },
      "outputs": [
        {
          "data": {
            "text/plain": [
              "b'Hello World'"
            ]
          },
          "execution_count": 3,
          "metadata": {},
          "output_type": "execute_result"
        }
      ],
      "source": [
        "import tensorflow as tf\n",
        "import tensorflow_federated as tff\n",
        "\n",
        "tf.compat.v1.enable_v2_behavior()\n",
        "np.random.seed(0)\n",
        "\n",
        "tff.federated_computation(lambda: 'Hello World')()"
      ]
    },
    {
      "cell_type": "markdown",
      "metadata": {
        "id": "VJCpTxpBvaJk"
      },
      "source": [
        "# Federated Learning Model Training"
      ]
    },
    {
      "cell_type": "code",
      "execution_count": null,
      "metadata": {
        "id": "h-Ln8n3ovaJl"
      },
      "outputs": [],
      "source": [
        "# This function is for reading 1090 data\n",
        "\n",
        "def conver_text_to_dataframe(path, folder_name, X_var_lst, Y_var):\n",
        "\n",
        "    '''\n",
        "    path: text file of Trian/Test dataset\n",
        "    folder_name: 'Train' or 'Test'\n",
        "    X_var_lst = list of independent variables (18)\n",
        "    Y_var = string of depdentent variable ('selected_idx'; 0: default, 1: alternative route)\n",
        "\n",
        "    '''\n",
        "    all_files = glob.glob(path + \"/*.txt\")\n",
        "\n",
        "    for i in all_files:\n",
        "        client_id = i.split('/')[-1].split('.')[0].strip(folder_name)\n",
        "        df = pd.read_csv(i, sep=',',names= X_var_lst)\n",
        "\n",
        "    return df"
      ]
    },
    {
      "cell_type": "code",
      "execution_count": null,
      "metadata": {
        "id": "5nzrR4YmvaJm"
      },
      "outputs": [],
      "source": [
        "def split_train_val(df, test_size):\n",
        "    '''\n",
        "    Test size should determined\n",
        "    '''\n",
        "    Train, Val = train_test_split(df, test_size=test_size,random_state=42)\n",
        "\n",
        "    return Train, Val"
      ]
    },
    {
      "cell_type": "code",
      "execution_count": null,
      "metadata": {
        "id": "fK04w2vTvaJm"
      },
      "outputs": [],
      "source": [
        "import time\n",
        "import calendar\n",
        "\n",
        "def preprocess(df, drop_col_lst, dummy_col_lst):\n",
        "    '''\n",
        "    df: Train, Val, Test dataset (dataframe)\n",
        "    drop_col_lst = list of unnecessary columns\n",
        "    dummy_col_lst = lst of categorical columns\n",
        "\n",
        "    '''\n",
        "    # convert day_of_week(Mon-Sun) into integer(0-6)\n",
        "    dict(zip(calendar.day_name, range(7)))\n",
        "    df[['day_of_week']] = df[['day_of_week']].replace(dict(zip(calendar.day_name, range(7))))\n",
        "\n",
        "    # drop unnecessary columns\n",
        "    cleaned_df = dataframe.drop(drop_col_lst,axis = 1)\n",
        "\n",
        "    # conver categorical variables into dummy variables\n",
        "    cleaned_df = pd.get_dummies(data = cleaned_df, columns = dummy_col_lst, drop_first = True)\n",
        "\n",
        "    return cleaned_df"
      ]
    },
    {
      "cell_type": "code",
      "execution_count": null,
      "metadata": {
        "id": "ld7lkJNhvaJm"
      },
      "outputs": [],
      "source": [
        "def normalize(df):\n",
        "\n",
        "    labels = np.array(df.pop('selected_idx'))\n",
        "    features = np.array(df)\n",
        "\n",
        "    #Standardization\n",
        "    scaler = StandardScaler()\n",
        "\n",
        "    #Standardize only continuous features\n",
        "    features_cont = scaler.fit_transform(features[:,0:13])\n",
        "    #Concatenate standarized features and categorical features\n",
        "    features = np.concatenate((features_cont, np.array(features[:,14:])), axis=1)\n",
        "\n",
        "    return features, labels"
      ]
    },
    {
      "cell_type": "code",
      "execution_count": null,
      "metadata": {
        "id": "Jd_bCxdPvaJm"
      },
      "outputs": [],
      "source": [
        "def make_driver_data(df):\n",
        "    '''\n",
        "    Transforming dataframe into tensor sliced client data to input federated learning framework\n",
        "    df: Train, Test, Val\n",
        "    '''\n",
        "    drivers_id = list(df.num_id) #list of driver id\n",
        "    client_data = collections.OrderedDict() #creating empty Dictrionary\n",
        "\n",
        "    for i in drivers_id:\n",
        "\n",
        "        client_df = df.loc[df.num_id == i]\n",
        "\n",
        "        features, labels = Normalize(client_df)\n",
        "        data = collections.OrderedDict((('label', labels), ('predictors', features)))\n",
        "\n",
        "        client_data[i] = data\n",
        "\n",
        "    tensor_client_data = tff.simulation.FromTensorSlicesClientData(client_data)\n",
        "\n",
        "    return tensor_client_data"
      ]
    },
    {
      "cell_type": "code",
      "execution_count": null,
      "metadata": {
        "id": "ZoauoA6bvaJn"
      },
      "outputs": [],
      "source": [
        "NUM_EPOCHS = 5\n",
        "BATCH_SIZE = 100\n",
        "SHUFFLE_BUFFER = 100\n",
        "PREFETCH_BUFFER=10\n",
        "\n",
        "def federated_preprocess(dataset):\n",
        "\n",
        "    def batch_format_fn(element):\n",
        "\n",
        "        return collections.OrderedDict(\n",
        "        x=tf.reshape(element['predictors'], [-1, 45]),\n",
        "        y=tf.reshape(element['label'], [-1, 1]))\n",
        "\n",
        "    return dataset.repeat(NUM_EPOCHS).shuffle(SHUFFLE_BUFFER).batch(\n",
        "      BATCH_SIZE).map(batch_format_fn).prefetch(PREFETCH_BUFFER)"
      ]
    },
    {
      "cell_type": "code",
      "execution_count": null,
      "metadata": {
        "id": "o4jWJjoavaJn"
      },
      "outputs": [],
      "source": [
        "def make_federated_data(client_data, client_ids):\n",
        "    return [\n",
        "      federated_preprocess(client_data.create_tf_dataset_for_client(x))\n",
        "      for x in client_ids\n",
        "  ]"
      ]
    },
    {
      "cell_type": "code",
      "execution_count": null,
      "metadata": {
        "id": "xM0XjT9wvaJn"
      },
      "outputs": [],
      "source": [
        "def create_keras_model(output_bias=None):\n",
        "    '''\n",
        "    Creating Keras model\n",
        "    input_shape will be the number of features\n",
        "    '''\n",
        "        return tf.keras.models.Sequential([\n",
        "    tf.keras.layers.Dense(16, activation='relu',input_shape=(45,)),\n",
        "#             tf.keras.layers.BatchNormalization(),\n",
        "    tf.keras.layers.Dense(16, activation ='relu'),\n",
        "#             tf.keras.layers.BatchNormalization(),\n",
        "#             tf.keras.layers.Dense(16, activation ='relu'),\n",
        "#             tf.keras.layers.BatchNormalization(),\n",
        "#             tf.keras.layers.Dense(5, activation ='relu'),\n",
        "#             tf.keras.layers.BatchNormalization(),\n",
        "  tf.keras.layers.Dense(1, activation='sigmoid',bias_initializer=output_bias),\n",
        "])"
      ]
    },
    {
      "cell_type": "code",
      "execution_count": null,
      "metadata": {
        "id": "4z1KBa69vaJo"
      },
      "outputs": [],
      "source": [
        "def model_fn():\n",
        "    '''\n",
        "    federated learning using keras model\n",
        "    loss function: Binary Cross entropy (y variable is binary)\n",
        "    '''\n",
        "    keras_model = create_keras_model()\n",
        "    return tff.learning.from_keras_model(\n",
        "      keras_model,\n",
        "      input_spec=preprocessed_example_dataset.element_spec,\n",
        "      loss=tf.keras.losses.BinaryCrossentropy(),\n",
        "\n",
        "      metrics=[tf.keras.metrics.BinaryAccuracy()])"
      ]
    },
    {
      "cell_type": "markdown",
      "metadata": {
        "id": "VFipxLSpvaJo"
      },
      "source": [
        "**Federated Learning Traning**  \n",
        "- optimizer: Adam\n",
        "- Communication rounds: 30\n",
        "- Selected driver per round: 600  \n",
        "all of paramters can be tuned for optimization"
      ]
    },
    {
      "cell_type": "code",
      "execution_count": null,
      "metadata": {
        "id": "KsDMm4_NvaJo"
      },
      "outputs": [],
      "source": [
        "\n",
        "import nest_asyncio\n",
        "nest_asyncio.apply()\n",
        "\n",
        "train_metrics_list = []\n",
        "eval_metrics_list = []\n",
        "\n",
        "federated_average = tff.learning.build_federated_averaging_process(model_fn,\n",
        "                                                                   client_optimizer_fn=lambda: tf.keras.optimizers.Adam(learning_rate=0.001),\n",
        "                                                                    server_optimizer_fn=lambda: tf.keras.optimizers.Adam(learning_rate=0.1))\n",
        "federated_eval = tff.learning.build_federated_evaluation(model_fn)\n",
        "\n",
        "state = federated_average.initialize()\n",
        "\n",
        "NUM_ROUNDS = 30 #communication rounds\n",
        "\n",
        "for num_round in range(1, NUM_ROUNDS):\n",
        "    participating_clients = np.random.choice(total_client_train.client_ids, size=600) # the number of randomly selected driver.\n",
        "\n",
        "\n",
        "  # Run a training pass\n",
        "    #federated train dataset with selected clients\n",
        "    client_train_datasets = make_federated_data(total_client_train, participating_clients)\n",
        "    state, train_metrics = federated_average.next(state, client_train_datasets)\n",
        "    train_metrics_list.append(train_metrics)\n",
        "\n",
        "    print('round {:2d}, train_metrics={}'.format(num_round, train_metrics))\n",
        "\n",
        "\n",
        "  # Run an evaluation pass\n",
        "    #federated test dataset with selected clients\n",
        "    client_eval_datasets =  make_federated_data(total_client_val, participating_clients)\n",
        "    eval_metrics = federated_eval(state.model, client_eval_datasets)\n",
        "    eval_metrics_list.append(eval_metrics)\n",
        "    print('round {:2d}, eval_metrics={}'.format(num_round, eval_metrics))"
      ]
    },
    {
      "cell_type": "code",
      "execution_count": null,
      "metadata": {
        "id": "9ZPmDamovaJo"
      },
      "outputs": [],
      "source": [
        "def performance_plot_with_metrics(train_metrics_list, eval_metrics_list):\n",
        "    '''\n",
        "    Drawing a plot with train/evaluation values from FL training\n",
        "    '''\n",
        "    train_acc_list = []\n",
        "    val_acc_list = []\n",
        "    train_loss_list = []\n",
        "    val_loss_list = []\n",
        "    for i in range(len(train_metrics_list)):\n",
        "        train_acc_list.append(train_metrics_list[i][0])\n",
        "        val_acc_list.append(eval_metrics_list[i][0])\n",
        "\n",
        "        train_loss_list.append(train_metrics_list[i][1])\n",
        "        val_loss_list.append(eval_metrics_list[i][1])\n",
        "\n",
        "    # list all data in history\n",
        "    #print(history.history.keys())\n",
        "    # summarize history for accuracy\n",
        "    plt.plot(train_acc_list, color = 'grey')\n",
        "    plt.plot(val_acc_list,'--',color = 'grey')\n",
        "    #plt.title('accuracy')\n",
        "    plt.ylabel('accuracy')\n",
        "    plt.xlabel('communication round')\n",
        "    plt.ylim((0.2,0.8))\n",
        "    plt.legend(['train', 'val'], loc='lower right')\n",
        "    plt.show()\n",
        "    # summarize history for loss\n",
        "    plt.plot(train_loss_list, color = 'grey')\n",
        "    plt.plot(val_loss_list,'--', color = 'grey')\n",
        "    #plt.title('loss')\n",
        "    plt.ylabel('loss')\n",
        "    plt.xlabel('communication round')\n",
        "    plt.ylim((0.5,1.75))\n",
        "    plt.legend(['train', 'val'], loc='upper right')\n",
        "    plt.rcParams.update({'font.size': 17})\n",
        "\n",
        "    return plt.show()\n"
      ]
    },
    {
      "cell_type": "code",
      "execution_count": null,
      "metadata": {
        "id": "d77H8NoovaJp",
        "outputId": "6db99765-0f93-4b7b-e715-06324f322edb"
      },
      "outputs": [
        {
          "data": {
            "image/png": "[encoded data removed]",
            "text/plain": [
              "<Figure size 432x288 with 1 Axes>"
            ]
          },
          "metadata": {
            "needs_background": "light"
          },
          "output_type": "display_data"
        },
        {
          "data": {
            "image/png": "[encoded data removed]",
            "text/plain": [
              "<Figure size 432x288 with 1 Axes>"
            ]
          },
          "metadata": {
            "needs_background": "light"
          },
          "output_type": "display_data"
        }
      ],
      "source": [
        "performance_plot_with_metrics(train_metrics_list, eval_metrics_list)"
      ]
    },
    {
      "cell_type": "markdown",
      "metadata": {
        "id": "T0a1OBHgvaJp"
      },
      "source": [
        "# Centralized Model Training"
      ]
    },
    {
      "cell_type": "code",
      "execution_count": null,
      "metadata": {
        "id": "nwYLCjqHvaJp"
      },
      "outputs": [],
      "source": [
        "import tensorflow as tf\n",
        "from tensorflow import keras\n",
        "\n",
        "import os\n",
        "import tempfile\n",
        "\n",
        "import matplotlib as mpl\n",
        "import matplotlib.pyplot as plt\n",
        "import numpy as np\n",
        "import pandas as pd\n",
        "import seaborn as sns\n",
        "\n",
        "import sklearn\n",
        "from sklearn.metrics import confusion_matrix\n",
        "from sklearn.model_selection import train_test_split\n",
        "from sklearn.preprocessing import StandardScaler"
      ]
    },
    {
      "cell_type": "code",
      "execution_count": null,
      "metadata": {
        "id": "yCLJOHExvaJp"
      },
      "outputs": [],
      "source": []
    },
    {
      "cell_type": "code",
      "execution_count": null,
      "metadata": {
        "id": "JkVjAoM5vaJp"
      },
      "outputs": [],
      "source": [
        "def conver_text_to_dataframe(path, folder_name, X_var_lst, Y_var):\n",
        "\n",
        "    '''\n",
        "    path: text file of Trian/Test dataset\n",
        "    folder_name: 'Train' or 'Test'\n",
        "    X_var_lst = list of independent variables (18)\n",
        "    Y_var = string of depdentent variable ('selected_idx'; 0: default, 1: alternative route)\n",
        "\n",
        "    '''\n",
        "    all_files = glob.glob(path + \"/*.txt\")\n",
        "\n",
        "    for i in all_files:\n",
        "        client_id = i.split('/')[-1].split('.')[0].strip(folder_name)\n",
        "        df = pd.read_csv(i, sep=',',names= X_var_lst)\n",
        "\n",
        "    return df"
      ]
    },
    {
      "cell_type": "code",
      "execution_count": null,
      "metadata": {
        "id": "GKxbnkpEvaJq"
      },
      "outputs": [],
      "source": [
        "def split_train_val(df):\n",
        "\n",
        "    Train, Val = train_test_split(df, test_size=0.2,random_state=42)\n",
        "\n",
        "    return Train, Val"
      ]
    },
    {
      "cell_type": "code",
      "execution_count": null,
      "metadata": {
        "id": "SFyW-u6HvaJq"
      },
      "outputs": [],
      "source": [
        "import time\n",
        "import calendar\n",
        "\n",
        "def preprocess(df, drop_col_lst, dummy_col_lst):\n",
        "    '''\n",
        "    df: Train, Val, Test dataset (dataframe)\n",
        "    drop_col_lst = list of unnecessary columns\n",
        "    dummy_col_lst = lst of categorical columns\n",
        "\n",
        "    '''\n",
        "    # convert day_of_week(Mon-Sun) into integer(0-6)\n",
        "    dict(zip(calendar.day_name, range(7)))\n",
        "    df[['day_of_week']] = df[['day_of_week']].replace(dict(zip(calendar.day_name, range(7))))\n",
        "\n",
        "    # drop unnecessary columns\n",
        "    cleaned_df = dataframe.drop(drop_col_lst,axis = 1)\n",
        "\n",
        "    # conver categorical variables into dummy variables\n",
        "    cleaned_df = pd.get_dummies(data = cleaned_df, columns = dummy_col_lst, drop_first = True)\n",
        "\n",
        "    return cleaned_df"
      ]
    },
    {
      "cell_type": "code",
      "execution_count": null,
      "metadata": {
        "id": "iqF6IoIlvaJq"
      },
      "outputs": [],
      "source": [
        "def normalize(df):\n",
        "\n",
        "    # Normalize\n",
        "    labels = np.array(df.pop('selected_idx'))\n",
        "    features = np.array(df)\n",
        "\n",
        "    scaler = StandardScaler()\n",
        "    features_cont = scaler.fit_transform(features[:,0:13])\n",
        "    features = np.concatenate((features_cont, np.array(features[:,14:])), axis=1)\n",
        "\n",
        "    return features, labels"
      ]
    },
    {
      "cell_type": "code",
      "execution_count": null,
      "metadata": {
        "id": "MYueEEuLvaJq"
      },
      "outputs": [],
      "source": []
    },
    {
      "cell_type": "code",
      "execution_count": null,
      "metadata": {
        "id": "nQ9dRb5DvaJq"
      },
      "outputs": [],
      "source": [
        "METRICS = [\n",
        "      keras.metrics.TruePositives(name='tp'),\n",
        "      keras.metrics.FalsePositives(name='fp'),\n",
        "      keras.metrics.TrueNegatives(name='tn'),\n",
        "      keras.metrics.FalseNegatives(name='fn'),\n",
        "      keras.metrics.BinaryAccuracy(name='accuracy'),\n",
        "      keras.metrics.Precision(name='precision'),\n",
        "      keras.metrics.Recall(name='recall'),\n",
        "      keras.metrics.AUC(name='auc'),\n",
        "]\n",
        "\n",
        "def make_model(metrics = METRICS, output_bias=None):\n",
        "    if output_bias is not None:\n",
        "        output_bias = tf.keras.initializers.Constant(output_bias)\n",
        "    model = keras.Sequential([\n",
        "      keras.layers.Dense(\n",
        "          16, activation='relu',\n",
        "          input_shape=(train_features.shape[-1],)),\n",
        "#            keras.layers.Dense(16, activation ='relu'),\n",
        "      keras.layers.Dense(1, activation='sigmoid',\n",
        "                         bias_initializer=output_bias),\n",
        "  ])\n",
        "\n",
        "    model.compile(\n",
        "      optimizer=keras.optimizers.Adam(lr=1e-3), #optimizer: Adam (with learning rate = 0.001)\n",
        "      loss=keras.losses.BinaryCrossentropy(), # loss function: Binary Corss Entropy (y variable is binary)\n",
        "      metrics=metrics)\n",
        "\n",
        "    return model"
      ]
    },
    {
      "cell_type": "code",
      "execution_count": null,
      "metadata": {
        "id": "FTSaN5uXvaJq"
      },
      "outputs": [],
      "source": [
        "EPOCHS = 50\n",
        "BATCH_SIZE = 200\n",
        "\n",
        "# early stopper to prevent overfitting\n",
        "early_stopping = tf.keras.callbacks.EarlyStopping(\n",
        "    monitor='val_accuracy',\n",
        "    verbose=1,\n",
        "    patience=10,\n",
        "    mode='max',\n",
        "    restore_best_weights=True)"
      ]
    },
    {
      "cell_type": "code",
      "execution_count": null,
      "metadata": {
        "id": "kFnlpxp2vaJr",
        "outputId": "0a31373a-6d87-4520-d97c-c8b905f7de59"
      },
      "outputs": [
        {
          "name": "stdout",
          "output_type": "stream",
          "text": [
            "Model: \"sequential_8\"\n",
            "_________________________________________________________________\n",
            "Layer (type)                 Output Shape              Param #   \n",
            "=================================================================\n",
            "dense_18 (Dense)             (None, 16)                736       \n",
            "_________________________________________________________________\n",
            "dense_19 (Dense)             (None, 1)                 17        \n",
            "=================================================================\n",
            "Total params: 753\n",
            "Trainable params: 753\n",
            "Non-trainable params: 0\n",
            "_________________________________________________________________\n"
          ]
        }
      ],
      "source": [
        "model = make_model()\n",
        "model.summary()"
      ]
    },
    {
      "cell_type": "code",
      "execution_count": null,
      "metadata": {
        "id": "78x-EDBTvaJr",
        "outputId": "92e3e5cf-9f07-405a-978a-bc83a74ade61"
      },
      "outputs": [
        {
          "name": "stdout",
          "output_type": "stream",
          "text": [
            "Epoch 1/50\n",
            "8628/8628 [==============================] - 32s 4ms/step - loss: 0.5064 - tp: 53294.0000 - fp: 54992.0000 - tn: 1247923.0000 - fn: 369346.0000 - accuracy: 0.7541 - precision: 0.4922 - recall: 0.1261 - auc: 0.7105 - val_loss: 0.5013 - val_tp: 14514.0000 - val_fp: 13682.0000 - val_tn: 312110.0000 - val_fn: 91083.0000 - val_accuracy: 0.7571 - val_precision: 0.5148 - val_recall: 0.1374 - val_auc: 0.7182\n",
            "Epoch 2/50\n",
            "8628/8628 [==============================] - 32s 4ms/step - loss: 0.5003 - tp: 54178.0000 - fp: 50306.0000 - tn: 1252609.0000 - fn: 368462.0000 - accuracy: 0.7573 - precision: 0.5185 - recall: 0.1282 - auc: 0.7202 - val_loss: 0.5001 - val_tp: 15478.0000 - val_fp: 14535.0000 - val_tn: 311257.0000 - val_fn: 90119.0000 - val_accuracy: 0.7574 - val_precision: 0.5157 - val_recall: 0.1466 - val_auc: 0.7201\n",
            "Epoch 3/50\n",
            "8628/8628 [==============================] - 32s 4ms/step - loss: 0.4993 - tp: 53843.0000 - fp: 49786.0000 - tn: 1253129.0000 - fn: 368797.0000 - accuracy: 0.7574 - precision: 0.5196 - recall: 0.1274 - auc: 0.7216 - val_loss: 0.4997 - val_tp: 18464.0000 - val_fp: 17559.0000 - val_tn: 308233.0000 - val_fn: 87133.0000 - val_accuracy: 0.7573 - val_precision: 0.5126 - val_recall: 0.1749 - val_auc: 0.7211\n",
            "Epoch 4/50\n",
            "8628/8628 [==============================] - 31s 4ms/step - loss: 0.4988 - tp: 53443.0000 - fp: 49395.0000 - tn: 1253520.0000 - fn: 369197.0000 - accuracy: 0.7574 - precision: 0.5197 - recall: 0.1265 - auc: 0.7225 - val_loss: 0.4992 - val_tp: 19269.0000 - val_fp: 18313.0000 - val_tn: 307479.0000 - val_fn: 86328.0000 - val_accuracy: 0.7574 - val_precision: 0.5127 - val_recall: 0.1825 - val_auc: 0.7225\n",
            "Epoch 5/50\n",
            "8628/8628 [==============================] - 31s 4ms/step - loss: 0.4984 - tp: 53630.0000 - fp: 48944.0000 - tn: 1253971.0000 - fn: 369010.0000 - accuracy: 0.7578 - precision: 0.5228 - recall: 0.1269 - auc: 0.7230 - val_loss: 0.4984 - val_tp: 11289.0000 - val_fp: 10089.0000 - val_tn: 315703.0000 - val_fn: 94308.0000 - val_accuracy: 0.7580 - val_precision: 0.5281 - val_recall: 0.1069 - val_auc: 0.7228\n",
            "Epoch 6/50\n",
            "8628/8628 [==============================] - 31s 4ms/step - loss: 0.4982 - tp: 53745.0000 - fp: 49204.0000 - tn: 1253711.0000 - fn: 368895.0000 - accuracy: 0.7577 - precision: 0.5221 - recall: 0.1272 - auc: 0.7235 - val_loss: 0.4985 - val_tp: 5627.0000 - val_fp: 4752.0000 - val_tn: 321040.0000 - val_fn: 99970.0000 - val_accuracy: 0.7572 - val_precision: 0.5422 - val_recall: 0.0533 - val_auc: 0.7237\n",
            "Epoch 7/50\n",
            "8628/8628 [==============================] - 31s 4ms/step - loss: 0.4980 - tp: 53945.0000 - fp: 49283.0000 - tn: 1253632.0000 - fn: 368695.0000 - accuracy: 0.7578 - precision: 0.5226 - recall: 0.1276 - auc: 0.7237 - val_loss: 0.4982 - val_tp: 9384.0000 - val_fp: 8069.0000 - val_tn: 317723.0000 - val_fn: 96213.0000 - val_accuracy: 0.7583 - val_precision: 0.5377 - val_recall: 0.0889 - val_auc: 0.7239\n",
            "Epoch 8/50\n",
            "8628/8628 [==============================] - 32s 4ms/step - loss: 0.4979 - tp: 54020.0000 - fp: 49281.0000 - tn: 1253634.0000 - fn: 368620.0000 - accuracy: 0.7578 - precision: 0.5229 - recall: 0.1278 - auc: 0.7239 - val_loss: 0.4980 - val_tp: 18523.0000 - val_fp: 17368.0000 - val_tn: 308424.0000 - val_fn: 87074.0000 - val_accuracy: 0.7579 - val_precision: 0.5161 - val_recall: 0.1754 - val_auc: 0.7240\n",
            "Epoch 9/50\n",
            "8628/8628 [==============================] - 31s 4ms/step - loss: 0.4978 - tp: 54406.0000 - fp: 49549.0000 - tn: 1253366.0000 - fn: 368234.0000 - accuracy: 0.7579 - precision: 0.5234 - recall: 0.1287 - auc: 0.7241 - val_loss: 0.4985 - val_tp: 20364.0000 - val_fp: 19538.0000 - val_tn: 306254.0000 - val_fn: 85233.0000 - val_accuracy: 0.7571 - val_precision: 0.5104 - val_recall: 0.1928 - val_auc: 0.7234\n",
            "Epoch 10/50\n",
            "8628/8628 [==============================] - 32s 4ms/step - loss: 0.4977 - tp: 54032.0000 - fp: 49519.0000 - tn: 1253396.0000 - fn: 368608.0000 - accuracy: 0.7577 - precision: 0.5218 - recall: 0.1278 - auc: 0.7243 - val_loss: 0.4985 - val_tp: 14900.0000 - val_fp: 13563.0000 - val_tn: 312229.0000 - val_fn: 90697.0000 - val_accuracy: 0.7583 - val_precision: 0.5235 - val_recall: 0.1411 - val_auc: 0.7229\n",
            "Epoch 11/50\n",
            "8628/8628 [==============================] - 31s 4ms/step - loss: 0.4977 - tp: 54274.0000 - fp: 49495.0000 - tn: 1253420.0000 - fn: 368366.0000 - accuracy: 0.7578 - precision: 0.5230 - recall: 0.1284 - auc: 0.7243 - val_loss: 0.4978 - val_tp: 16418.0000 - val_fp: 15111.0000 - val_tn: 310681.0000 - val_fn: 89179.0000 - val_accuracy: 0.7582 - val_precision: 0.5207 - val_recall: 0.1555 - val_auc: 0.7240\n",
            "Epoch 12/50\n",
            "8628/8628 [==============================] - 32s 4ms/step - loss: 0.4976 - tp: 54575.0000 - fp: 49620.0000 - tn: 1253295.0000 - fn: 368065.0000 - accuracy: 0.7579 - precision: 0.5238 - recall: 0.1291 - auc: 0.7244 - val_loss: 0.4990 - val_tp: 6766.0000 - val_fp: 5927.0000 - val_tn: 319865.0000 - val_fn: 98831.0000 - val_accuracy: 0.7572 - val_precision: 0.5330 - val_recall: 0.0641 - val_auc: 0.7227\n",
            "Epoch 13/50\n",
            "8628/8628 [==============================] - 31s 4ms/step - loss: 0.4975 - tp: 54201.0000 - fp: 49595.0000 - tn: 1253320.0000 - fn: 368439.0000 - accuracy: 0.7577 - precision: 0.5222 - recall: 0.1282 - auc: 0.7245 - val_loss: 0.4984 - val_tp: 22539.0000 - val_fp: 21835.0000 - val_tn: 303957.0000 - val_fn: 83058.0000 - val_accuracy: 0.7568 - val_precision: 0.5079 - val_recall: 0.2134 - val_auc: 0.7242\n",
            "Epoch 14/50\n",
            "8628/8628 [==============================] - 32s 4ms/step - loss: 0.4975 - tp: 54446.0000 - fp: 49786.0000 - tn: 1253129.0000 - fn: 368194.0000 - accuracy: 0.7578 - precision: 0.5224 - recall: 0.1288 - auc: 0.7246 - val_loss: 0.4979 - val_tp: 14948.0000 - val_fp: 13598.0000 - val_tn: 312194.0000 - val_fn: 90649.0000 - val_accuracy: 0.7583 - val_precision: 0.5236 - val_recall: 0.1416 - val_auc: 0.7243\n",
            "Epoch 15/50\n",
            "8628/8628 [==============================] - 31s 4ms/step - loss: 0.4975 - tp: 54861.0000 - fp: 50068.0000 - tn: 1252847.0000 - fn: 367779.0000 - accuracy: 0.7578 - precision: 0.5228 - recall: 0.1298 - auc: 0.7246 - val_loss: 0.4974 - val_tp: 9414.0000 - val_fp: 8203.0000 - val_tn: 317589.0000 - val_fn: 96183.0000 - val_accuracy: 0.7580 - val_precision: 0.5344 - val_recall: 0.0892 - val_auc: 0.7246\n",
            "Epoch 16/50\n",
            "8628/8628 [==============================] - 31s 4ms/step - loss: 0.4975 - tp: 54359.0000 - fp: 49560.0000 - tn: 1253355.0000 - fn: 368281.0000 - accuracy: 0.7579 - precision: 0.5231 - recall: 0.1286 - auc: 0.7247 - val_loss: 0.4973 - val_tp: 14810.0000 - val_fp: 13411.0000 - val_tn: 312381.0000 - val_fn: 90787.0000 - val_accuracy: 0.7585 - val_precision: 0.5248 - val_recall: 0.1403 - val_auc: 0.7251\n",
            "Epoch 17/50\n",
            "8628/8628 [==============================] - 31s 4ms/step - loss: 0.4974 - tp: 54277.0000 - fp: 49581.0000 - tn: 1253334.0000 - fn: 368363.0000 - accuracy: 0.7578 - precision: 0.5226 - recall: 0.1284 - auc: 0.7247 - val_loss: 0.4977 - val_tp: 13147.0000 - val_fp: 11844.0000 - val_tn: 313948.0000 - val_fn: 92450.0000 - val_accuracy: 0.7582 - val_precision: 0.5261 - val_recall: 0.1245 - val_auc: 0.7242\n",
            "Epoch 18/50\n",
            "8628/8628 [==============================] - 31s 4ms/step - loss: 0.4974 - tp: 54601.0000 - fp: 49657.0000 - tn: 1253258.0000 - fn: 368039.0000 - accuracy: 0.7579 - precision: 0.5237 - recall: 0.1292 - auc: 0.7247 - val_loss: 0.4973 - val_tp: 10885.0000 - val_fp: 9582.0000 - val_tn: 316210.0000 - val_fn: 94712.0000 - val_accuracy: 0.7582 - val_precision: 0.5318 - val_recall: 0.1031 - val_auc: 0.7248\n",
            "Epoch 19/50\n",
            "8628/8628 [==============================] - 32s 4ms/step - loss: 0.4973 - tp: 54801.0000 - fp: 50128.0000 - tn: 1252787.0000 - fn: 367839.0000 - accuracy: 0.7578 - precision: 0.5223 - recall: 0.1297 - auc: 0.7249 - val_loss: 0.4977 - val_tp: 14224.0000 - val_fp: 12873.0000 - val_tn: 312919.0000 - val_fn: 91373.0000 - val_accuracy: 0.7583 - val_precision: 0.5249 - val_recall: 0.1347 - val_auc: 0.7240\n",
            "Epoch 20/50\n",
            "8628/8628 [==============================] - 31s 4ms/step - loss: 0.4973 - tp: 54499.0000 - fp: 49618.0000 - tn: 1253297.0000 - fn: 368141.0000 - accuracy: 0.7579 - precision: 0.5234 - recall: 0.1289 - auc: 0.7249 - val_loss: 0.4980 - val_tp: 7520.0000 - val_fp: 6507.0000 - val_tn: 319285.0000 - val_fn: 98077.0000 - val_accuracy: 0.7576 - val_precision: 0.5361 - val_recall: 0.0712 - val_auc: 0.7241\n",
            "Epoch 21/50\n",
            "8628/8628 [==============================] - 32s 4ms/step - loss: 0.4973 - tp: 54499.0000 - fp: 49662.0000 - tn: 1253253.0000 - fn: 368141.0000 - accuracy: 0.7579 - precision: 0.5232 - recall: 0.1289 - auc: 0.7250 - val_loss: 0.4974 - val_tp: 20417.0000 - val_fp: 19233.0000 - val_tn: 306559.0000 - val_fn: 85180.0000 - val_accuracy: 0.7580 - val_precision: 0.5149 - val_recall: 0.1933 - val_auc: 0.7251\n",
            "Epoch 22/50\n",
            "8628/8628 [==============================] - 31s 4ms/step - loss: 0.4973 - tp: 54841.0000 - fp: 50238.0000 - tn: 1252677.0000 - fn: 367799.0000 - accuracy: 0.7577 - precision: 0.5219 - recall: 0.1298 - auc: 0.7249 - val_loss: 0.4978 - val_tp: 12047.0000 - val_fp: 10811.0000 - val_tn: 314981.0000 - val_fn: 93550.0000 - val_accuracy: 0.7581 - val_precision: 0.5270 - val_recall: 0.1141 - val_auc: 0.7242\n",
            "Epoch 23/50\n",
            "8628/8628 [==============================] - 32s 4ms/step - loss: 0.4972 - tp: 54681.0000 - fp: 49798.0000 - tn: 1253117.0000 - fn: 367959.0000 - accuracy: 0.7579 - precision: 0.5234 - recall: 0.1294 - auc: 0.7251 - val_loss: 0.4976 - val_tp: 15514.0000 - val_fp: 14211.0000 - val_tn: 311581.0000 - val_fn: 90083.0000 - val_accuracy: 0.7582 - val_precision: 0.5219 - val_recall: 0.1469 - val_auc: 0.7245\n",
            "Epoch 24/50\n",
            "8628/8628 [==============================] - 31s 4ms/step - loss: 0.4972 - tp: 55073.0000 - fp: 50306.0000 - tn: 1252609.0000 - fn: 367567.0000 - accuracy: 0.7578 - precision: 0.5226 - recall: 0.1303 - auc: 0.7251 - val_loss: 0.4971 - val_tp: 15136.0000 - val_fp: 13786.0000 - val_tn: 312006.0000 - val_fn: 90461.0000 - val_accuracy: 0.7583 - val_precision: 0.5233 - val_recall: 0.1433 - val_auc: 0.7250\n",
            "Epoch 25/50\n",
            "8628/8628 [==============================] - 32s 4ms/step - loss: 0.4971 - tp: 55001.0000 - fp: 50143.0000 - tn: 1252772.0000 - fn: 367639.0000 - accuracy: 0.7579 - precision: 0.5231 - recall: 0.1301 - auc: 0.7251 - val_loss: 0.4979 - val_tp: 24160.0000 - val_fp: 23730.0000 - val_tn: 302062.0000 - val_fn: 81437.0000 - val_accuracy: 0.7562 - val_precision: 0.5045 - val_recall: 0.2288 - val_auc: 0.7248\n",
            "Epoch 26/50\n",
            "8627/8628 [============================>.] - ETA: 0s - loss: 0.4971 - tp: 55678.0000 - fp: 50980.0000 - tn: 1251827.0000 - fn: 366915.0000 - accuracy: 0.7578 - precision: 0.5220 - recall: 0.1318 - auc: 0.7252Restoring model weights from the end of the best epoch.\n",
            "8628/8628 [==============================] - 31s 4ms/step - loss: 0.4971 - tp: 55687.0000 - fp: 50985.0000 - tn: 1251930.0000 - fn: 366953.0000 - accuracy: 0.7578 - precision: 0.5220 - recall: 0.1318 - auc: 0.7252 - val_loss: 0.4974 - val_tp: 19651.0000 - val_fp: 18409.0000 - val_tn: 307383.0000 - val_fn: 85946.0000 - val_accuracy: 0.7581 - val_precision: 0.5163 - val_recall: 0.1861 - val_auc: 0.7250\n",
            "Epoch 00026: early stopping\n"
          ]
        }
      ],
      "source": [
        "model = make_model()\n",
        "#model.load_weights(initial_weights)\n",
        "baseline_history = model.fit(\n",
        "    train_features,\n",
        "    train_labels,\n",
        "    batch_size=BATCH_SIZE,\n",
        "    epochs=EPOCHS,\n",
        "    callbacks = [early_stopping],\n",
        "    validation_data=(val_features, val_labels))"
      ]
    },
    {
      "cell_type": "code",
      "execution_count": null,
      "metadata": {
        "id": "aTImHm9hvaJr"
      },
      "outputs": [],
      "source": [
        "def plot_cm(labels, predictions, p=0.5):\n",
        "    '''\n",
        "    plot confusion matrix\n",
        "    input: lables and predicted value from model training\n",
        "    '''\n",
        "    cm = confusion_matrix(labels, predictions > p)\n",
        "    plt.figure(figsize=(5,5))\n",
        "    sns.heatmap(cm, annot=True, fmt=\"d\")\n",
        "    plt.title('Confusion matrix @{:.2f}'.format(p))\n",
        "    plt.ylabel('Actual label')\n",
        "    plt.xlabel('Predicted label')\n",
        "\n",
        "    print('Legitimate Transactions Detected (True Negatives): ', cm[0][0])\n",
        "    print('Legitimate Transactions Incorrectly Detected (False Positives): ', cm[0][1])\n",
        "    print('Fraudulent Transactions Missed (False Negatives): ', cm[1][0])\n",
        "    print('Fraudulent Transactions Detected (True Positives): ', cm[1][1])\n",
        "    print('Total Fraudulent Transactions: ', np.sum(cm[1]))"
      ]
    },
    {
      "cell_type": "code",
      "execution_count": null,
      "metadata": {
        "id": "fpeG-QONvaJr"
      },
      "outputs": [],
      "source": [
        "test_predictions_baseline = model.predict(test_features, batch_size=BATCH_SIZE)"
      ]
    },
    {
      "cell_type": "code",
      "execution_count": null,
      "metadata": {
        "id": "q4ExnFovvaJr",
        "outputId": "78f8bd26-367d-4a3e-b49e-97f9dcb516b9"
      },
      "outputs": [
        {
          "name": "stdout",
          "output_type": "stream",
          "text": [
            "4623/4623 [==============================] - 13s 3ms/step - loss: 0.4973 - tp: 30802.0000 - fp: 28857.0000 - tn: 669690.0000 - fn: 195056.0000 - accuracy: 0.7578 - precision: 0.5163 - recall: 0.1364 - auc: 0.7244\n",
            "loss :  0.49729329347610474\n",
            "tp :  30802.0\n",
            "fp :  28857.0\n",
            "tn :  669690.0\n",
            "fn :  195056.0\n",
            "accuracy :  0.7577760815620422\n",
            "precision :  0.5163009762763977\n",
            "recall :  0.1363777220249176\n",
            "auc :  0.724433183670044\n",
            "\n",
            "Legitimate Transactions Detected (True Negatives):  671432\n",
            "Legitimate Transactions Incorrectly Detected (False Positives):  27115\n",
            "Fraudulent Transactions Missed (False Negatives):  196006\n",
            "Fraudulent Transactions Detected (True Positives):  29852\n",
            "Total Fraudulent Transactions:  225858\n"
          ]
        },
        {
          "data": {
            "image/png": "[encoded data removed]",
            "text/plain": [
              "<Figure size 360x360 with 2 Axes>"
            ]
          },
          "metadata": {
            "needs_background": "light"
          },
          "output_type": "display_data"
        }
      ],
      "source": [
        "baseline_results = model.evaluate(test_features, test_labels,\n",
        "                                  batch_size=BATCH_SIZE, verbose=1)\n",
        "for name, value in zip(model.metrics_names, baseline_results):\n",
        "    print(name, ': ', value)\n",
        "print()\n",
        "\n",
        "plot_cm(test_labels, test_predictions_baseline)"
      ]
    },
    {
      "cell_type": "code",
      "execution_count": null,
      "metadata": {
        "id": "lKugHudGvaJs"
      },
      "outputs": [],
      "source": []
    },
    {
      "cell_type": "code",
      "execution_count": null,
      "metadata": {
        "id": "_sFW19VKvaJs",
        "outputId": "9ad5667b-b6cf-4289-8eb8-d541ac12a9fd"
      },
      "outputs": [
        {
          "data": {
            "image/png": "[encoded data removed]",
            "text/plain": [
              "<Figure size 432x288 with 1 Axes>"
            ]
          },
          "metadata": {
            "needs_background": "light"
          },
          "output_type": "display_data"
        },
        {
          "data": {
            "image/png": "[encoded data removed]",
            "text/plain": [
              "<Figure size 432x288 with 1 Axes>"
            ]
          },
          "metadata": {
            "needs_background": "light"
          },
          "output_type": "display_data"
        }
      ],
      "source": [
        "# list all data in history\n",
        "#print(history.history.keys())\n",
        "# summarize history for accuracy\n",
        "plt.plot(baseline_history.history['accuracy'], color = 'grey')\n",
        "plt.plot(baseline_history.history['val_accuracy'],'--',color = 'grey')\n",
        "#plt.title('accuracy')\n",
        "plt.ylabel('accuracy')\n",
        "plt.xlabel('epochs')\n",
        "plt.ylim((0.754,0.759))\n",
        "plt.legend(['train', 'val'], loc='lower right')\n",
        "plt.show()\n",
        "# summarize history for loss\n",
        "plt.plot(baseline_history.history['loss'], color = 'grey')\n",
        "plt.plot(baseline_history.history['val_loss'],'--', color = 'grey')\n",
        "#plt.title('loss')\n",
        "plt.ylabel('loss')\n",
        "plt.xlabel('epochs round')\n",
        "plt.ylim((0.497,0.51))\n",
        "plt.legend(['train', 'val'], loc='upper right')\n",
        "plt.show()\n",
        "plt.rcParams.update({'font.size': 17})"
      ]
    },
    {
      "cell_type": "code",
      "execution_count": null,
      "metadata": {
        "id": "QShsFyb-vaJs"
      },
      "outputs": [],
      "source": []
    }
  ],
  "metadata": {
    "kernelspec": {
      "display_name": "Tensorflow 2.1/Keras Py3.7",
      "language": "python",
      "name": "tensorflow210_py37"
    },
    "language_info": {
      "codemirror_mode": {
        "name": "ipython",
        "version": 3
      },
      "file_extension": ".py",
      "mimetype": "text/x-python",
      "name": "python",
      "nbconvert_exporter": "python",
      "pygments_lexer": "ipython3",
      "version": "3.7.5"
    },
    "colab": {
      "provenance": [],
      "toc_visible": true,
      "include_colab_link": true
    }
  },
  "nbformat": 4,
  "nbformat_minor": 0
}